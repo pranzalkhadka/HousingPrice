{
  "nbformat": 4,
  "nbformat_minor": 0,
  "metadata": {
    "colab": {
      "provenance": []
    },
    "kernelspec": {
      "name": "python3",
      "display_name": "Python 3"
    },
    "language_info": {
      "name": "python"
    }
  },
  "cells": [
    {
      "cell_type": "code",
      "execution_count": 1,
      "metadata": {
        "id": "HRAVH3fvyx_V"
      },
      "outputs": [],
      "source": [
        "import pandas as pd\n",
        "import matplotlib.pyplot as plt"
      ]
    },
    {
      "cell_type": "code",
      "source": [
        "from google.colab import files\n",
        "uploaded = files.upload()"
      ],
      "metadata": {
        "colab": {
          "base_uri": "https://localhost:8080/",
          "height": 74
        },
        "id": "S4acvvtTzMWk",
        "outputId": "4719bfec-bf90-4c98-a618-dc5f1cb9967e"
      },
      "execution_count": 2,
      "outputs": [
        {
          "output_type": "display_data",
          "data": {
            "text/plain": [
              "<IPython.core.display.HTML object>"
            ],
            "text/html": [
              "\n",
              "     <input type=\"file\" id=\"files-863c09ca-7b11-45bd-9e31-572881f9ba9e\" name=\"files[]\" multiple disabled\n",
              "        style=\"border:none\" />\n",
              "     <output id=\"result-863c09ca-7b11-45bd-9e31-572881f9ba9e\">\n",
              "      Upload widget is only available when the cell has been executed in the\n",
              "      current browser session. Please rerun this cell to enable.\n",
              "      </output>\n",
              "      <script>// Copyright 2017 Google LLC\n",
              "//\n",
              "// Licensed under the Apache License, Version 2.0 (the \"License\");\n",
              "// you may not use this file except in compliance with the License.\n",
              "// You may obtain a copy of the License at\n",
              "//\n",
              "//      http://www.apache.org/licenses/LICENSE-2.0\n",
              "//\n",
              "// Unless required by applicable law or agreed to in writing, software\n",
              "// distributed under the License is distributed on an \"AS IS\" BASIS,\n",
              "// WITHOUT WARRANTIES OR CONDITIONS OF ANY KIND, either express or implied.\n",
              "// See the License for the specific language governing permissions and\n",
              "// limitations under the License.\n",
              "\n",
              "/**\n",
              " * @fileoverview Helpers for google.colab Python module.\n",
              " */\n",
              "(function(scope) {\n",
              "function span(text, styleAttributes = {}) {\n",
              "  const element = document.createElement('span');\n",
              "  element.textContent = text;\n",
              "  for (const key of Object.keys(styleAttributes)) {\n",
              "    element.style[key] = styleAttributes[key];\n",
              "  }\n",
              "  return element;\n",
              "}\n",
              "\n",
              "// Max number of bytes which will be uploaded at a time.\n",
              "const MAX_PAYLOAD_SIZE = 100 * 1024;\n",
              "\n",
              "function _uploadFiles(inputId, outputId) {\n",
              "  const steps = uploadFilesStep(inputId, outputId);\n",
              "  const outputElement = document.getElementById(outputId);\n",
              "  // Cache steps on the outputElement to make it available for the next call\n",
              "  // to uploadFilesContinue from Python.\n",
              "  outputElement.steps = steps;\n",
              "\n",
              "  return _uploadFilesContinue(outputId);\n",
              "}\n",
              "\n",
              "// This is roughly an async generator (not supported in the browser yet),\n",
              "// where there are multiple asynchronous steps and the Python side is going\n",
              "// to poll for completion of each step.\n",
              "// This uses a Promise to block the python side on completion of each step,\n",
              "// then passes the result of the previous step as the input to the next step.\n",
              "function _uploadFilesContinue(outputId) {\n",
              "  const outputElement = document.getElementById(outputId);\n",
              "  const steps = outputElement.steps;\n",
              "\n",
              "  const next = steps.next(outputElement.lastPromiseValue);\n",
              "  return Promise.resolve(next.value.promise).then((value) => {\n",
              "    // Cache the last promise value to make it available to the next\n",
              "    // step of the generator.\n",
              "    outputElement.lastPromiseValue = value;\n",
              "    return next.value.response;\n",
              "  });\n",
              "}\n",
              "\n",
              "/**\n",
              " * Generator function which is called between each async step of the upload\n",
              " * process.\n",
              " * @param {string} inputId Element ID of the input file picker element.\n",
              " * @param {string} outputId Element ID of the output display.\n",
              " * @return {!Iterable<!Object>} Iterable of next steps.\n",
              " */\n",
              "function* uploadFilesStep(inputId, outputId) {\n",
              "  const inputElement = document.getElementById(inputId);\n",
              "  inputElement.disabled = false;\n",
              "\n",
              "  const outputElement = document.getElementById(outputId);\n",
              "  outputElement.innerHTML = '';\n",
              "\n",
              "  const pickedPromise = new Promise((resolve) => {\n",
              "    inputElement.addEventListener('change', (e) => {\n",
              "      resolve(e.target.files);\n",
              "    });\n",
              "  });\n",
              "\n",
              "  const cancel = document.createElement('button');\n",
              "  inputElement.parentElement.appendChild(cancel);\n",
              "  cancel.textContent = 'Cancel upload';\n",
              "  const cancelPromise = new Promise((resolve) => {\n",
              "    cancel.onclick = () => {\n",
              "      resolve(null);\n",
              "    };\n",
              "  });\n",
              "\n",
              "  // Wait for the user to pick the files.\n",
              "  const files = yield {\n",
              "    promise: Promise.race([pickedPromise, cancelPromise]),\n",
              "    response: {\n",
              "      action: 'starting',\n",
              "    }\n",
              "  };\n",
              "\n",
              "  cancel.remove();\n",
              "\n",
              "  // Disable the input element since further picks are not allowed.\n",
              "  inputElement.disabled = true;\n",
              "\n",
              "  if (!files) {\n",
              "    return {\n",
              "      response: {\n",
              "        action: 'complete',\n",
              "      }\n",
              "    };\n",
              "  }\n",
              "\n",
              "  for (const file of files) {\n",
              "    const li = document.createElement('li');\n",
              "    li.append(span(file.name, {fontWeight: 'bold'}));\n",
              "    li.append(span(\n",
              "        `(${file.type || 'n/a'}) - ${file.size} bytes, ` +\n",
              "        `last modified: ${\n",
              "            file.lastModifiedDate ? file.lastModifiedDate.toLocaleDateString() :\n",
              "                                    'n/a'} - `));\n",
              "    const percent = span('0% done');\n",
              "    li.appendChild(percent);\n",
              "\n",
              "    outputElement.appendChild(li);\n",
              "\n",
              "    const fileDataPromise = new Promise((resolve) => {\n",
              "      const reader = new FileReader();\n",
              "      reader.onload = (e) => {\n",
              "        resolve(e.target.result);\n",
              "      };\n",
              "      reader.readAsArrayBuffer(file);\n",
              "    });\n",
              "    // Wait for the data to be ready.\n",
              "    let fileData = yield {\n",
              "      promise: fileDataPromise,\n",
              "      response: {\n",
              "        action: 'continue',\n",
              "      }\n",
              "    };\n",
              "\n",
              "    // Use a chunked sending to avoid message size limits. See b/62115660.\n",
              "    let position = 0;\n",
              "    do {\n",
              "      const length = Math.min(fileData.byteLength - position, MAX_PAYLOAD_SIZE);\n",
              "      const chunk = new Uint8Array(fileData, position, length);\n",
              "      position += length;\n",
              "\n",
              "      const base64 = btoa(String.fromCharCode.apply(null, chunk));\n",
              "      yield {\n",
              "        response: {\n",
              "          action: 'append',\n",
              "          file: file.name,\n",
              "          data: base64,\n",
              "        },\n",
              "      };\n",
              "\n",
              "      let percentDone = fileData.byteLength === 0 ?\n",
              "          100 :\n",
              "          Math.round((position / fileData.byteLength) * 100);\n",
              "      percent.textContent = `${percentDone}% done`;\n",
              "\n",
              "    } while (position < fileData.byteLength);\n",
              "  }\n",
              "\n",
              "  // All done.\n",
              "  yield {\n",
              "    response: {\n",
              "      action: 'complete',\n",
              "    }\n",
              "  };\n",
              "}\n",
              "\n",
              "scope.google = scope.google || {};\n",
              "scope.google.colab = scope.google.colab || {};\n",
              "scope.google.colab._files = {\n",
              "  _uploadFiles,\n",
              "  _uploadFilesContinue,\n",
              "};\n",
              "})(self);\n",
              "</script> "
            ]
          },
          "metadata": {}
        },
        {
          "output_type": "stream",
          "name": "stdout",
          "text": [
            "Saving housingtrain.csv to housingtrain.csv\n"
          ]
        }
      ]
    },
    {
      "cell_type": "code",
      "source": [
        "from google.colab import files\n",
        "uploaded = files.upload()"
      ],
      "metadata": {
        "colab": {
          "base_uri": "https://localhost:8080/",
          "height": 74
        },
        "id": "re7RNlybzb8v",
        "outputId": "0eac3334-146b-4599-f8bc-bd37f505816c"
      },
      "execution_count": 3,
      "outputs": [
        {
          "output_type": "display_data",
          "data": {
            "text/plain": [
              "<IPython.core.display.HTML object>"
            ],
            "text/html": [
              "\n",
              "     <input type=\"file\" id=\"files-bc15584e-c8de-45e3-a3bb-48ff1a1733a9\" name=\"files[]\" multiple disabled\n",
              "        style=\"border:none\" />\n",
              "     <output id=\"result-bc15584e-c8de-45e3-a3bb-48ff1a1733a9\">\n",
              "      Upload widget is only available when the cell has been executed in the\n",
              "      current browser session. Please rerun this cell to enable.\n",
              "      </output>\n",
              "      <script>// Copyright 2017 Google LLC\n",
              "//\n",
              "// Licensed under the Apache License, Version 2.0 (the \"License\");\n",
              "// you may not use this file except in compliance with the License.\n",
              "// You may obtain a copy of the License at\n",
              "//\n",
              "//      http://www.apache.org/licenses/LICENSE-2.0\n",
              "//\n",
              "// Unless required by applicable law or agreed to in writing, software\n",
              "// distributed under the License is distributed on an \"AS IS\" BASIS,\n",
              "// WITHOUT WARRANTIES OR CONDITIONS OF ANY KIND, either express or implied.\n",
              "// See the License for the specific language governing permissions and\n",
              "// limitations under the License.\n",
              "\n",
              "/**\n",
              " * @fileoverview Helpers for google.colab Python module.\n",
              " */\n",
              "(function(scope) {\n",
              "function span(text, styleAttributes = {}) {\n",
              "  const element = document.createElement('span');\n",
              "  element.textContent = text;\n",
              "  for (const key of Object.keys(styleAttributes)) {\n",
              "    element.style[key] = styleAttributes[key];\n",
              "  }\n",
              "  return element;\n",
              "}\n",
              "\n",
              "// Max number of bytes which will be uploaded at a time.\n",
              "const MAX_PAYLOAD_SIZE = 100 * 1024;\n",
              "\n",
              "function _uploadFiles(inputId, outputId) {\n",
              "  const steps = uploadFilesStep(inputId, outputId);\n",
              "  const outputElement = document.getElementById(outputId);\n",
              "  // Cache steps on the outputElement to make it available for the next call\n",
              "  // to uploadFilesContinue from Python.\n",
              "  outputElement.steps = steps;\n",
              "\n",
              "  return _uploadFilesContinue(outputId);\n",
              "}\n",
              "\n",
              "// This is roughly an async generator (not supported in the browser yet),\n",
              "// where there are multiple asynchronous steps and the Python side is going\n",
              "// to poll for completion of each step.\n",
              "// This uses a Promise to block the python side on completion of each step,\n",
              "// then passes the result of the previous step as the input to the next step.\n",
              "function _uploadFilesContinue(outputId) {\n",
              "  const outputElement = document.getElementById(outputId);\n",
              "  const steps = outputElement.steps;\n",
              "\n",
              "  const next = steps.next(outputElement.lastPromiseValue);\n",
              "  return Promise.resolve(next.value.promise).then((value) => {\n",
              "    // Cache the last promise value to make it available to the next\n",
              "    // step of the generator.\n",
              "    outputElement.lastPromiseValue = value;\n",
              "    return next.value.response;\n",
              "  });\n",
              "}\n",
              "\n",
              "/**\n",
              " * Generator function which is called between each async step of the upload\n",
              " * process.\n",
              " * @param {string} inputId Element ID of the input file picker element.\n",
              " * @param {string} outputId Element ID of the output display.\n",
              " * @return {!Iterable<!Object>} Iterable of next steps.\n",
              " */\n",
              "function* uploadFilesStep(inputId, outputId) {\n",
              "  const inputElement = document.getElementById(inputId);\n",
              "  inputElement.disabled = false;\n",
              "\n",
              "  const outputElement = document.getElementById(outputId);\n",
              "  outputElement.innerHTML = '';\n",
              "\n",
              "  const pickedPromise = new Promise((resolve) => {\n",
              "    inputElement.addEventListener('change', (e) => {\n",
              "      resolve(e.target.files);\n",
              "    });\n",
              "  });\n",
              "\n",
              "  const cancel = document.createElement('button');\n",
              "  inputElement.parentElement.appendChild(cancel);\n",
              "  cancel.textContent = 'Cancel upload';\n",
              "  const cancelPromise = new Promise((resolve) => {\n",
              "    cancel.onclick = () => {\n",
              "      resolve(null);\n",
              "    };\n",
              "  });\n",
              "\n",
              "  // Wait for the user to pick the files.\n",
              "  const files = yield {\n",
              "    promise: Promise.race([pickedPromise, cancelPromise]),\n",
              "    response: {\n",
              "      action: 'starting',\n",
              "    }\n",
              "  };\n",
              "\n",
              "  cancel.remove();\n",
              "\n",
              "  // Disable the input element since further picks are not allowed.\n",
              "  inputElement.disabled = true;\n",
              "\n",
              "  if (!files) {\n",
              "    return {\n",
              "      response: {\n",
              "        action: 'complete',\n",
              "      }\n",
              "    };\n",
              "  }\n",
              "\n",
              "  for (const file of files) {\n",
              "    const li = document.createElement('li');\n",
              "    li.append(span(file.name, {fontWeight: 'bold'}));\n",
              "    li.append(span(\n",
              "        `(${file.type || 'n/a'}) - ${file.size} bytes, ` +\n",
              "        `last modified: ${\n",
              "            file.lastModifiedDate ? file.lastModifiedDate.toLocaleDateString() :\n",
              "                                    'n/a'} - `));\n",
              "    const percent = span('0% done');\n",
              "    li.appendChild(percent);\n",
              "\n",
              "    outputElement.appendChild(li);\n",
              "\n",
              "    const fileDataPromise = new Promise((resolve) => {\n",
              "      const reader = new FileReader();\n",
              "      reader.onload = (e) => {\n",
              "        resolve(e.target.result);\n",
              "      };\n",
              "      reader.readAsArrayBuffer(file);\n",
              "    });\n",
              "    // Wait for the data to be ready.\n",
              "    let fileData = yield {\n",
              "      promise: fileDataPromise,\n",
              "      response: {\n",
              "        action: 'continue',\n",
              "      }\n",
              "    };\n",
              "\n",
              "    // Use a chunked sending to avoid message size limits. See b/62115660.\n",
              "    let position = 0;\n",
              "    do {\n",
              "      const length = Math.min(fileData.byteLength - position, MAX_PAYLOAD_SIZE);\n",
              "      const chunk = new Uint8Array(fileData, position, length);\n",
              "      position += length;\n",
              "\n",
              "      const base64 = btoa(String.fromCharCode.apply(null, chunk));\n",
              "      yield {\n",
              "        response: {\n",
              "          action: 'append',\n",
              "          file: file.name,\n",
              "          data: base64,\n",
              "        },\n",
              "      };\n",
              "\n",
              "      let percentDone = fileData.byteLength === 0 ?\n",
              "          100 :\n",
              "          Math.round((position / fileData.byteLength) * 100);\n",
              "      percent.textContent = `${percentDone}% done`;\n",
              "\n",
              "    } while (position < fileData.byteLength);\n",
              "  }\n",
              "\n",
              "  // All done.\n",
              "  yield {\n",
              "    response: {\n",
              "      action: 'complete',\n",
              "    }\n",
              "  };\n",
              "}\n",
              "\n",
              "scope.google = scope.google || {};\n",
              "scope.google.colab = scope.google.colab || {};\n",
              "scope.google.colab._files = {\n",
              "  _uploadFiles,\n",
              "  _uploadFilesContinue,\n",
              "};\n",
              "})(self);\n",
              "</script> "
            ]
          },
          "metadata": {}
        },
        {
          "output_type": "stream",
          "name": "stdout",
          "text": [
            "Saving housingtest.csv to housingtest.csv\n"
          ]
        }
      ]
    },
    {
      "cell_type": "code",
      "source": [
        "train = pd.read_csv(\"housingtrain.csv\")\n",
        "test = pd.read_csv(\"housingtest.csv\")"
      ],
      "metadata": {
        "id": "sTgzXFd_zb_e"
      },
      "execution_count": 20,
      "outputs": []
    },
    {
      "cell_type": "code",
      "source": [
        "train.head(3)"
      ],
      "metadata": {
        "id": "fBQxVQSmzcCF",
        "colab": {
          "base_uri": "https://localhost:8080/",
          "height": 237
        },
        "outputId": "95d62111-7685-4af1-a2b0-d32147cd38f3"
      },
      "execution_count": 21,
      "outputs": [
        {
          "output_type": "execute_result",
          "data": {
            "text/plain": [
              "   Id  MSSubClass MSZoning  LotFrontage  LotArea Street Alley LotShape  \\\n",
              "0   1          60       RL         65.0     8450   Pave   NaN      Reg   \n",
              "1   2          20       RL         80.0     9600   Pave   NaN      Reg   \n",
              "2   3          60       RL         68.0    11250   Pave   NaN      IR1   \n",
              "\n",
              "  LandContour Utilities  ... PoolArea PoolQC Fence MiscFeature MiscVal MoSold  \\\n",
              "0         Lvl    AllPub  ...        0    NaN   NaN         NaN       0      2   \n",
              "1         Lvl    AllPub  ...        0    NaN   NaN         NaN       0      5   \n",
              "2         Lvl    AllPub  ...        0    NaN   NaN         NaN       0      9   \n",
              "\n",
              "  YrSold  SaleType  SaleCondition  SalePrice  \n",
              "0   2008        WD         Normal     208500  \n",
              "1   2007        WD         Normal     181500  \n",
              "2   2008        WD         Normal     223500  \n",
              "\n",
              "[3 rows x 81 columns]"
            ],
            "text/html": [
              "\n",
              "  <div id=\"df-41a1f781-ca08-430f-b45d-3458356a6ce2\">\n",
              "    <div class=\"colab-df-container\">\n",
              "      <div>\n",
              "<style scoped>\n",
              "    .dataframe tbody tr th:only-of-type {\n",
              "        vertical-align: middle;\n",
              "    }\n",
              "\n",
              "    .dataframe tbody tr th {\n",
              "        vertical-align: top;\n",
              "    }\n",
              "\n",
              "    .dataframe thead th {\n",
              "        text-align: right;\n",
              "    }\n",
              "</style>\n",
              "<table border=\"1\" class=\"dataframe\">\n",
              "  <thead>\n",
              "    <tr style=\"text-align: right;\">\n",
              "      <th></th>\n",
              "      <th>Id</th>\n",
              "      <th>MSSubClass</th>\n",
              "      <th>MSZoning</th>\n",
              "      <th>LotFrontage</th>\n",
              "      <th>LotArea</th>\n",
              "      <th>Street</th>\n",
              "      <th>Alley</th>\n",
              "      <th>LotShape</th>\n",
              "      <th>LandContour</th>\n",
              "      <th>Utilities</th>\n",
              "      <th>...</th>\n",
              "      <th>PoolArea</th>\n",
              "      <th>PoolQC</th>\n",
              "      <th>Fence</th>\n",
              "      <th>MiscFeature</th>\n",
              "      <th>MiscVal</th>\n",
              "      <th>MoSold</th>\n",
              "      <th>YrSold</th>\n",
              "      <th>SaleType</th>\n",
              "      <th>SaleCondition</th>\n",
              "      <th>SalePrice</th>\n",
              "    </tr>\n",
              "  </thead>\n",
              "  <tbody>\n",
              "    <tr>\n",
              "      <th>0</th>\n",
              "      <td>1</td>\n",
              "      <td>60</td>\n",
              "      <td>RL</td>\n",
              "      <td>65.0</td>\n",
              "      <td>8450</td>\n",
              "      <td>Pave</td>\n",
              "      <td>NaN</td>\n",
              "      <td>Reg</td>\n",
              "      <td>Lvl</td>\n",
              "      <td>AllPub</td>\n",
              "      <td>...</td>\n",
              "      <td>0</td>\n",
              "      <td>NaN</td>\n",
              "      <td>NaN</td>\n",
              "      <td>NaN</td>\n",
              "      <td>0</td>\n",
              "      <td>2</td>\n",
              "      <td>2008</td>\n",
              "      <td>WD</td>\n",
              "      <td>Normal</td>\n",
              "      <td>208500</td>\n",
              "    </tr>\n",
              "    <tr>\n",
              "      <th>1</th>\n",
              "      <td>2</td>\n",
              "      <td>20</td>\n",
              "      <td>RL</td>\n",
              "      <td>80.0</td>\n",
              "      <td>9600</td>\n",
              "      <td>Pave</td>\n",
              "      <td>NaN</td>\n",
              "      <td>Reg</td>\n",
              "      <td>Lvl</td>\n",
              "      <td>AllPub</td>\n",
              "      <td>...</td>\n",
              "      <td>0</td>\n",
              "      <td>NaN</td>\n",
              "      <td>NaN</td>\n",
              "      <td>NaN</td>\n",
              "      <td>0</td>\n",
              "      <td>5</td>\n",
              "      <td>2007</td>\n",
              "      <td>WD</td>\n",
              "      <td>Normal</td>\n",
              "      <td>181500</td>\n",
              "    </tr>\n",
              "    <tr>\n",
              "      <th>2</th>\n",
              "      <td>3</td>\n",
              "      <td>60</td>\n",
              "      <td>RL</td>\n",
              "      <td>68.0</td>\n",
              "      <td>11250</td>\n",
              "      <td>Pave</td>\n",
              "      <td>NaN</td>\n",
              "      <td>IR1</td>\n",
              "      <td>Lvl</td>\n",
              "      <td>AllPub</td>\n",
              "      <td>...</td>\n",
              "      <td>0</td>\n",
              "      <td>NaN</td>\n",
              "      <td>NaN</td>\n",
              "      <td>NaN</td>\n",
              "      <td>0</td>\n",
              "      <td>9</td>\n",
              "      <td>2008</td>\n",
              "      <td>WD</td>\n",
              "      <td>Normal</td>\n",
              "      <td>223500</td>\n",
              "    </tr>\n",
              "  </tbody>\n",
              "</table>\n",
              "<p>3 rows × 81 columns</p>\n",
              "</div>\n",
              "      <button class=\"colab-df-convert\" onclick=\"convertToInteractive('df-41a1f781-ca08-430f-b45d-3458356a6ce2')\"\n",
              "              title=\"Convert this dataframe to an interactive table.\"\n",
              "              style=\"display:none;\">\n",
              "        \n",
              "  <svg xmlns=\"http://www.w3.org/2000/svg\" height=\"24px\"viewBox=\"0 0 24 24\"\n",
              "       width=\"24px\">\n",
              "    <path d=\"M0 0h24v24H0V0z\" fill=\"none\"/>\n",
              "    <path d=\"M18.56 5.44l.94 2.06.94-2.06 2.06-.94-2.06-.94-.94-2.06-.94 2.06-2.06.94zm-11 1L8.5 8.5l.94-2.06 2.06-.94-2.06-.94L8.5 2.5l-.94 2.06-2.06.94zm10 10l.94 2.06.94-2.06 2.06-.94-2.06-.94-.94-2.06-.94 2.06-2.06.94z\"/><path d=\"M17.41 7.96l-1.37-1.37c-.4-.4-.92-.59-1.43-.59-.52 0-1.04.2-1.43.59L10.3 9.45l-7.72 7.72c-.78.78-.78 2.05 0 2.83L4 21.41c.39.39.9.59 1.41.59.51 0 1.02-.2 1.41-.59l7.78-7.78 2.81-2.81c.8-.78.8-2.07 0-2.86zM5.41 20L4 18.59l7.72-7.72 1.47 1.35L5.41 20z\"/>\n",
              "  </svg>\n",
              "      </button>\n",
              "      \n",
              "  <style>\n",
              "    .colab-df-container {\n",
              "      display:flex;\n",
              "      flex-wrap:wrap;\n",
              "      gap: 12px;\n",
              "    }\n",
              "\n",
              "    .colab-df-convert {\n",
              "      background-color: #E8F0FE;\n",
              "      border: none;\n",
              "      border-radius: 50%;\n",
              "      cursor: pointer;\n",
              "      display: none;\n",
              "      fill: #1967D2;\n",
              "      height: 32px;\n",
              "      padding: 0 0 0 0;\n",
              "      width: 32px;\n",
              "    }\n",
              "\n",
              "    .colab-df-convert:hover {\n",
              "      background-color: #E2EBFA;\n",
              "      box-shadow: 0px 1px 2px rgba(60, 64, 67, 0.3), 0px 1px 3px 1px rgba(60, 64, 67, 0.15);\n",
              "      fill: #174EA6;\n",
              "    }\n",
              "\n",
              "    [theme=dark] .colab-df-convert {\n",
              "      background-color: #3B4455;\n",
              "      fill: #D2E3FC;\n",
              "    }\n",
              "\n",
              "    [theme=dark] .colab-df-convert:hover {\n",
              "      background-color: #434B5C;\n",
              "      box-shadow: 0px 1px 3px 1px rgba(0, 0, 0, 0.15);\n",
              "      filter: drop-shadow(0px 1px 2px rgba(0, 0, 0, 0.3));\n",
              "      fill: #FFFFFF;\n",
              "    }\n",
              "  </style>\n",
              "\n",
              "      <script>\n",
              "        const buttonEl =\n",
              "          document.querySelector('#df-41a1f781-ca08-430f-b45d-3458356a6ce2 button.colab-df-convert');\n",
              "        buttonEl.style.display =\n",
              "          google.colab.kernel.accessAllowed ? 'block' : 'none';\n",
              "\n",
              "        async function convertToInteractive(key) {\n",
              "          const element = document.querySelector('#df-41a1f781-ca08-430f-b45d-3458356a6ce2');\n",
              "          const dataTable =\n",
              "            await google.colab.kernel.invokeFunction('convertToInteractive',\n",
              "                                                     [key], {});\n",
              "          if (!dataTable) return;\n",
              "\n",
              "          const docLinkHtml = 'Like what you see? Visit the ' +\n",
              "            '<a target=\"_blank\" href=https://colab.research.google.com/notebooks/data_table.ipynb>data table notebook</a>'\n",
              "            + ' to learn more about interactive tables.';\n",
              "          element.innerHTML = '';\n",
              "          dataTable['output_type'] = 'display_data';\n",
              "          await google.colab.output.renderOutput(dataTable, element);\n",
              "          const docLink = document.createElement('div');\n",
              "          docLink.innerHTML = docLinkHtml;\n",
              "          element.appendChild(docLink);\n",
              "        }\n",
              "      </script>\n",
              "    </div>\n",
              "  </div>\n",
              "  "
            ]
          },
          "metadata": {},
          "execution_count": 21
        }
      ]
    },
    {
      "cell_type": "code",
      "source": [
        "train.info()"
      ],
      "metadata": {
        "id": "SFcy3Fq1zcEr",
        "colab": {
          "base_uri": "https://localhost:8080/"
        },
        "outputId": "3a047b12-37d8-4876-d538-e4dc5a18c3b9"
      },
      "execution_count": 22,
      "outputs": [
        {
          "output_type": "stream",
          "name": "stdout",
          "text": [
            "<class 'pandas.core.frame.DataFrame'>\n",
            "RangeIndex: 1460 entries, 0 to 1459\n",
            "Data columns (total 81 columns):\n",
            " #   Column         Non-Null Count  Dtype  \n",
            "---  ------         --------------  -----  \n",
            " 0   Id             1460 non-null   int64  \n",
            " 1   MSSubClass     1460 non-null   int64  \n",
            " 2   MSZoning       1460 non-null   object \n",
            " 3   LotFrontage    1201 non-null   float64\n",
            " 4   LotArea        1460 non-null   int64  \n",
            " 5   Street         1460 non-null   object \n",
            " 6   Alley          91 non-null     object \n",
            " 7   LotShape       1460 non-null   object \n",
            " 8   LandContour    1460 non-null   object \n",
            " 9   Utilities      1460 non-null   object \n",
            " 10  LotConfig      1460 non-null   object \n",
            " 11  LandSlope      1460 non-null   object \n",
            " 12  Neighborhood   1460 non-null   object \n",
            " 13  Condition1     1460 non-null   object \n",
            " 14  Condition2     1460 non-null   object \n",
            " 15  BldgType       1460 non-null   object \n",
            " 16  HouseStyle     1460 non-null   object \n",
            " 17  OverallQual    1460 non-null   int64  \n",
            " 18  OverallCond    1460 non-null   int64  \n",
            " 19  YearBuilt      1460 non-null   int64  \n",
            " 20  YearRemodAdd   1460 non-null   int64  \n",
            " 21  RoofStyle      1460 non-null   object \n",
            " 22  RoofMatl       1460 non-null   object \n",
            " 23  Exterior1st    1460 non-null   object \n",
            " 24  Exterior2nd    1460 non-null   object \n",
            " 25  MasVnrType     1452 non-null   object \n",
            " 26  MasVnrArea     1452 non-null   float64\n",
            " 27  ExterQual      1460 non-null   object \n",
            " 28  ExterCond      1460 non-null   object \n",
            " 29  Foundation     1460 non-null   object \n",
            " 30  BsmtQual       1423 non-null   object \n",
            " 31  BsmtCond       1423 non-null   object \n",
            " 32  BsmtExposure   1422 non-null   object \n",
            " 33  BsmtFinType1   1423 non-null   object \n",
            " 34  BsmtFinSF1     1460 non-null   int64  \n",
            " 35  BsmtFinType2   1422 non-null   object \n",
            " 36  BsmtFinSF2     1460 non-null   int64  \n",
            " 37  BsmtUnfSF      1460 non-null   int64  \n",
            " 38  TotalBsmtSF    1460 non-null   int64  \n",
            " 39  Heating        1460 non-null   object \n",
            " 40  HeatingQC      1460 non-null   object \n",
            " 41  CentralAir     1460 non-null   object \n",
            " 42  Electrical     1459 non-null   object \n",
            " 43  1stFlrSF       1460 non-null   int64  \n",
            " 44  2ndFlrSF       1460 non-null   int64  \n",
            " 45  LowQualFinSF   1460 non-null   int64  \n",
            " 46  GrLivArea      1460 non-null   int64  \n",
            " 47  BsmtFullBath   1460 non-null   int64  \n",
            " 48  BsmtHalfBath   1460 non-null   int64  \n",
            " 49  FullBath       1460 non-null   int64  \n",
            " 50  HalfBath       1460 non-null   int64  \n",
            " 51  BedroomAbvGr   1460 non-null   int64  \n",
            " 52  KitchenAbvGr   1460 non-null   int64  \n",
            " 53  KitchenQual    1460 non-null   object \n",
            " 54  TotRmsAbvGrd   1460 non-null   int64  \n",
            " 55  Functional     1460 non-null   object \n",
            " 56  Fireplaces     1460 non-null   int64  \n",
            " 57  FireplaceQu    770 non-null    object \n",
            " 58  GarageType     1379 non-null   object \n",
            " 59  GarageYrBlt    1379 non-null   float64\n",
            " 60  GarageFinish   1379 non-null   object \n",
            " 61  GarageCars     1460 non-null   int64  \n",
            " 62  GarageArea     1460 non-null   int64  \n",
            " 63  GarageQual     1379 non-null   object \n",
            " 64  GarageCond     1379 non-null   object \n",
            " 65  PavedDrive     1460 non-null   object \n",
            " 66  WoodDeckSF     1460 non-null   int64  \n",
            " 67  OpenPorchSF    1460 non-null   int64  \n",
            " 68  EnclosedPorch  1460 non-null   int64  \n",
            " 69  3SsnPorch      1460 non-null   int64  \n",
            " 70  ScreenPorch    1460 non-null   int64  \n",
            " 71  PoolArea       1460 non-null   int64  \n",
            " 72  PoolQC         7 non-null      object \n",
            " 73  Fence          281 non-null    object \n",
            " 74  MiscFeature    54 non-null     object \n",
            " 75  MiscVal        1460 non-null   int64  \n",
            " 76  MoSold         1460 non-null   int64  \n",
            " 77  YrSold         1460 non-null   int64  \n",
            " 78  SaleType       1460 non-null   object \n",
            " 79  SaleCondition  1460 non-null   object \n",
            " 80  SalePrice      1460 non-null   int64  \n",
            "dtypes: float64(3), int64(35), object(43)\n",
            "memory usage: 924.0+ KB\n"
          ]
        }
      ]
    },
    {
      "cell_type": "code",
      "source": [
        "x_train = train.drop([\"PoolQC\",\"Fence\",\"MiscFeature\",\"FireplaceQu\",\"Alley\",\"SalePrice\"],axis =1)\n",
        "y_train = train[\"SalePrice\"]"
      ],
      "metadata": {
        "id": "jUiLsKlyzcMb"
      },
      "execution_count": 23,
      "outputs": []
    },
    {
      "cell_type": "code",
      "source": [
        "x_train.head(3)"
      ],
      "metadata": {
        "colab": {
          "base_uri": "https://localhost:8080/",
          "height": 237
        },
        "id": "v9wQsnLGxUcO",
        "outputId": "9ba6cee5-8cfd-4261-bfb8-0c3f3b2bf32c"
      },
      "execution_count": 24,
      "outputs": [
        {
          "output_type": "execute_result",
          "data": {
            "text/plain": [
              "   Id  MSSubClass MSZoning  LotFrontage  LotArea Street LotShape LandContour  \\\n",
              "0   1          60       RL         65.0     8450   Pave      Reg         Lvl   \n",
              "1   2          20       RL         80.0     9600   Pave      Reg         Lvl   \n",
              "2   3          60       RL         68.0    11250   Pave      IR1         Lvl   \n",
              "\n",
              "  Utilities LotConfig  ... OpenPorchSF EnclosedPorch 3SsnPorch ScreenPorch  \\\n",
              "0    AllPub    Inside  ...          61             0         0           0   \n",
              "1    AllPub       FR2  ...           0             0         0           0   \n",
              "2    AllPub    Inside  ...          42             0         0           0   \n",
              "\n",
              "  PoolArea MiscVal  MoSold  YrSold  SaleType  SaleCondition  \n",
              "0        0       0       2    2008        WD         Normal  \n",
              "1        0       0       5    2007        WD         Normal  \n",
              "2        0       0       9    2008        WD         Normal  \n",
              "\n",
              "[3 rows x 75 columns]"
            ],
            "text/html": [
              "\n",
              "  <div id=\"df-1bbf7d15-b981-4831-8eaf-53a0dd68f6c6\">\n",
              "    <div class=\"colab-df-container\">\n",
              "      <div>\n",
              "<style scoped>\n",
              "    .dataframe tbody tr th:only-of-type {\n",
              "        vertical-align: middle;\n",
              "    }\n",
              "\n",
              "    .dataframe tbody tr th {\n",
              "        vertical-align: top;\n",
              "    }\n",
              "\n",
              "    .dataframe thead th {\n",
              "        text-align: right;\n",
              "    }\n",
              "</style>\n",
              "<table border=\"1\" class=\"dataframe\">\n",
              "  <thead>\n",
              "    <tr style=\"text-align: right;\">\n",
              "      <th></th>\n",
              "      <th>Id</th>\n",
              "      <th>MSSubClass</th>\n",
              "      <th>MSZoning</th>\n",
              "      <th>LotFrontage</th>\n",
              "      <th>LotArea</th>\n",
              "      <th>Street</th>\n",
              "      <th>LotShape</th>\n",
              "      <th>LandContour</th>\n",
              "      <th>Utilities</th>\n",
              "      <th>LotConfig</th>\n",
              "      <th>...</th>\n",
              "      <th>OpenPorchSF</th>\n",
              "      <th>EnclosedPorch</th>\n",
              "      <th>3SsnPorch</th>\n",
              "      <th>ScreenPorch</th>\n",
              "      <th>PoolArea</th>\n",
              "      <th>MiscVal</th>\n",
              "      <th>MoSold</th>\n",
              "      <th>YrSold</th>\n",
              "      <th>SaleType</th>\n",
              "      <th>SaleCondition</th>\n",
              "    </tr>\n",
              "  </thead>\n",
              "  <tbody>\n",
              "    <tr>\n",
              "      <th>0</th>\n",
              "      <td>1</td>\n",
              "      <td>60</td>\n",
              "      <td>RL</td>\n",
              "      <td>65.0</td>\n",
              "      <td>8450</td>\n",
              "      <td>Pave</td>\n",
              "      <td>Reg</td>\n",
              "      <td>Lvl</td>\n",
              "      <td>AllPub</td>\n",
              "      <td>Inside</td>\n",
              "      <td>...</td>\n",
              "      <td>61</td>\n",
              "      <td>0</td>\n",
              "      <td>0</td>\n",
              "      <td>0</td>\n",
              "      <td>0</td>\n",
              "      <td>0</td>\n",
              "      <td>2</td>\n",
              "      <td>2008</td>\n",
              "      <td>WD</td>\n",
              "      <td>Normal</td>\n",
              "    </tr>\n",
              "    <tr>\n",
              "      <th>1</th>\n",
              "      <td>2</td>\n",
              "      <td>20</td>\n",
              "      <td>RL</td>\n",
              "      <td>80.0</td>\n",
              "      <td>9600</td>\n",
              "      <td>Pave</td>\n",
              "      <td>Reg</td>\n",
              "      <td>Lvl</td>\n",
              "      <td>AllPub</td>\n",
              "      <td>FR2</td>\n",
              "      <td>...</td>\n",
              "      <td>0</td>\n",
              "      <td>0</td>\n",
              "      <td>0</td>\n",
              "      <td>0</td>\n",
              "      <td>0</td>\n",
              "      <td>0</td>\n",
              "      <td>5</td>\n",
              "      <td>2007</td>\n",
              "      <td>WD</td>\n",
              "      <td>Normal</td>\n",
              "    </tr>\n",
              "    <tr>\n",
              "      <th>2</th>\n",
              "      <td>3</td>\n",
              "      <td>60</td>\n",
              "      <td>RL</td>\n",
              "      <td>68.0</td>\n",
              "      <td>11250</td>\n",
              "      <td>Pave</td>\n",
              "      <td>IR1</td>\n",
              "      <td>Lvl</td>\n",
              "      <td>AllPub</td>\n",
              "      <td>Inside</td>\n",
              "      <td>...</td>\n",
              "      <td>42</td>\n",
              "      <td>0</td>\n",
              "      <td>0</td>\n",
              "      <td>0</td>\n",
              "      <td>0</td>\n",
              "      <td>0</td>\n",
              "      <td>9</td>\n",
              "      <td>2008</td>\n",
              "      <td>WD</td>\n",
              "      <td>Normal</td>\n",
              "    </tr>\n",
              "  </tbody>\n",
              "</table>\n",
              "<p>3 rows × 75 columns</p>\n",
              "</div>\n",
              "      <button class=\"colab-df-convert\" onclick=\"convertToInteractive('df-1bbf7d15-b981-4831-8eaf-53a0dd68f6c6')\"\n",
              "              title=\"Convert this dataframe to an interactive table.\"\n",
              "              style=\"display:none;\">\n",
              "        \n",
              "  <svg xmlns=\"http://www.w3.org/2000/svg\" height=\"24px\"viewBox=\"0 0 24 24\"\n",
              "       width=\"24px\">\n",
              "    <path d=\"M0 0h24v24H0V0z\" fill=\"none\"/>\n",
              "    <path d=\"M18.56 5.44l.94 2.06.94-2.06 2.06-.94-2.06-.94-.94-2.06-.94 2.06-2.06.94zm-11 1L8.5 8.5l.94-2.06 2.06-.94-2.06-.94L8.5 2.5l-.94 2.06-2.06.94zm10 10l.94 2.06.94-2.06 2.06-.94-2.06-.94-.94-2.06-.94 2.06-2.06.94z\"/><path d=\"M17.41 7.96l-1.37-1.37c-.4-.4-.92-.59-1.43-.59-.52 0-1.04.2-1.43.59L10.3 9.45l-7.72 7.72c-.78.78-.78 2.05 0 2.83L4 21.41c.39.39.9.59 1.41.59.51 0 1.02-.2 1.41-.59l7.78-7.78 2.81-2.81c.8-.78.8-2.07 0-2.86zM5.41 20L4 18.59l7.72-7.72 1.47 1.35L5.41 20z\"/>\n",
              "  </svg>\n",
              "      </button>\n",
              "      \n",
              "  <style>\n",
              "    .colab-df-container {\n",
              "      display:flex;\n",
              "      flex-wrap:wrap;\n",
              "      gap: 12px;\n",
              "    }\n",
              "\n",
              "    .colab-df-convert {\n",
              "      background-color: #E8F0FE;\n",
              "      border: none;\n",
              "      border-radius: 50%;\n",
              "      cursor: pointer;\n",
              "      display: none;\n",
              "      fill: #1967D2;\n",
              "      height: 32px;\n",
              "      padding: 0 0 0 0;\n",
              "      width: 32px;\n",
              "    }\n",
              "\n",
              "    .colab-df-convert:hover {\n",
              "      background-color: #E2EBFA;\n",
              "      box-shadow: 0px 1px 2px rgba(60, 64, 67, 0.3), 0px 1px 3px 1px rgba(60, 64, 67, 0.15);\n",
              "      fill: #174EA6;\n",
              "    }\n",
              "\n",
              "    [theme=dark] .colab-df-convert {\n",
              "      background-color: #3B4455;\n",
              "      fill: #D2E3FC;\n",
              "    }\n",
              "\n",
              "    [theme=dark] .colab-df-convert:hover {\n",
              "      background-color: #434B5C;\n",
              "      box-shadow: 0px 1px 3px 1px rgba(0, 0, 0, 0.15);\n",
              "      filter: drop-shadow(0px 1px 2px rgba(0, 0, 0, 0.3));\n",
              "      fill: #FFFFFF;\n",
              "    }\n",
              "  </style>\n",
              "\n",
              "      <script>\n",
              "        const buttonEl =\n",
              "          document.querySelector('#df-1bbf7d15-b981-4831-8eaf-53a0dd68f6c6 button.colab-df-convert');\n",
              "        buttonEl.style.display =\n",
              "          google.colab.kernel.accessAllowed ? 'block' : 'none';\n",
              "\n",
              "        async function convertToInteractive(key) {\n",
              "          const element = document.querySelector('#df-1bbf7d15-b981-4831-8eaf-53a0dd68f6c6');\n",
              "          const dataTable =\n",
              "            await google.colab.kernel.invokeFunction('convertToInteractive',\n",
              "                                                     [key], {});\n",
              "          if (!dataTable) return;\n",
              "\n",
              "          const docLinkHtml = 'Like what you see? Visit the ' +\n",
              "            '<a target=\"_blank\" href=https://colab.research.google.com/notebooks/data_table.ipynb>data table notebook</a>'\n",
              "            + ' to learn more about interactive tables.';\n",
              "          element.innerHTML = '';\n",
              "          dataTable['output_type'] = 'display_data';\n",
              "          await google.colab.output.renderOutput(dataTable, element);\n",
              "          const docLink = document.createElement('div');\n",
              "          docLink.innerHTML = docLinkHtml;\n",
              "          element.appendChild(docLink);\n",
              "        }\n",
              "      </script>\n",
              "    </div>\n",
              "  </div>\n",
              "  "
            ]
          },
          "metadata": {},
          "execution_count": 24
        }
      ]
    },
    {
      "cell_type": "code",
      "source": [
        "y_train.head(3)"
      ],
      "metadata": {
        "colab": {
          "base_uri": "https://localhost:8080/"
        },
        "id": "Ll6kndFLzExe",
        "outputId": "86bd00fa-eb05-4b44-b52f-9a69ada267d6"
      },
      "execution_count": 25,
      "outputs": [
        {
          "output_type": "execute_result",
          "data": {
            "text/plain": [
              "0    208500\n",
              "1    181500\n",
              "2    223500\n",
              "Name: SalePrice, dtype: int64"
            ]
          },
          "metadata": {},
          "execution_count": 25
        }
      ]
    },
    {
      "cell_type": "code",
      "source": [
        "x_train.info()"
      ],
      "metadata": {
        "colab": {
          "base_uri": "https://localhost:8080/"
        },
        "id": "WUmLL3S60Sbp",
        "outputId": "9fbd6432-ed61-4a79-c2f0-bff6d99ffad4"
      },
      "execution_count": 31,
      "outputs": [
        {
          "output_type": "stream",
          "name": "stdout",
          "text": [
            "<class 'pandas.core.frame.DataFrame'>\n",
            "RangeIndex: 1460 entries, 0 to 1459\n",
            "Data columns (total 75 columns):\n",
            " #   Column         Non-Null Count  Dtype  \n",
            "---  ------         --------------  -----  \n",
            " 0   Id             1460 non-null   int64  \n",
            " 1   MSSubClass     1460 non-null   int64  \n",
            " 2   MSZoning       1460 non-null   object \n",
            " 3   LotFrontage    1201 non-null   float64\n",
            " 4   LotArea        1460 non-null   int64  \n",
            " 5   Street         1460 non-null   object \n",
            " 6   LotShape       1460 non-null   object \n",
            " 7   LandContour    1460 non-null   object \n",
            " 8   Utilities      1460 non-null   object \n",
            " 9   LotConfig      1460 non-null   object \n",
            " 10  LandSlope      1460 non-null   object \n",
            " 11  Neighborhood   1460 non-null   object \n",
            " 12  Condition1     1460 non-null   object \n",
            " 13  Condition2     1460 non-null   object \n",
            " 14  BldgType       1460 non-null   object \n",
            " 15  HouseStyle     1460 non-null   object \n",
            " 16  OverallQual    1460 non-null   int64  \n",
            " 17  OverallCond    1460 non-null   int64  \n",
            " 18  YearBuilt      1460 non-null   int64  \n",
            " 19  YearRemodAdd   1460 non-null   int64  \n",
            " 20  RoofStyle      1460 non-null   object \n",
            " 21  RoofMatl       1460 non-null   object \n",
            " 22  Exterior1st    1460 non-null   object \n",
            " 23  Exterior2nd    1460 non-null   object \n",
            " 24  MasVnrType     1452 non-null   object \n",
            " 25  MasVnrArea     1452 non-null   float64\n",
            " 26  ExterQual      1460 non-null   object \n",
            " 27  ExterCond      1460 non-null   object \n",
            " 28  Foundation     1460 non-null   object \n",
            " 29  BsmtQual       1423 non-null   object \n",
            " 30  BsmtCond       1423 non-null   object \n",
            " 31  BsmtExposure   1422 non-null   object \n",
            " 32  BsmtFinType1   1423 non-null   object \n",
            " 33  BsmtFinSF1     1460 non-null   int64  \n",
            " 34  BsmtFinType2   1422 non-null   object \n",
            " 35  BsmtFinSF2     1460 non-null   int64  \n",
            " 36  BsmtUnfSF      1460 non-null   int64  \n",
            " 37  TotalBsmtSF    1460 non-null   int64  \n",
            " 38  Heating        1460 non-null   object \n",
            " 39  HeatingQC      1460 non-null   object \n",
            " 40  CentralAir     1460 non-null   object \n",
            " 41  Electrical     1459 non-null   object \n",
            " 42  1stFlrSF       1460 non-null   int64  \n",
            " 43  2ndFlrSF       1460 non-null   int64  \n",
            " 44  LowQualFinSF   1460 non-null   int64  \n",
            " 45  GrLivArea      1460 non-null   int64  \n",
            " 46  BsmtFullBath   1460 non-null   int64  \n",
            " 47  BsmtHalfBath   1460 non-null   int64  \n",
            " 48  FullBath       1460 non-null   int64  \n",
            " 49  HalfBath       1460 non-null   int64  \n",
            " 50  BedroomAbvGr   1460 non-null   int64  \n",
            " 51  KitchenAbvGr   1460 non-null   int64  \n",
            " 52  KitchenQual    1460 non-null   object \n",
            " 53  TotRmsAbvGrd   1460 non-null   int64  \n",
            " 54  Functional     1460 non-null   object \n",
            " 55  Fireplaces     1460 non-null   int64  \n",
            " 56  GarageType     1379 non-null   object \n",
            " 57  GarageYrBlt    1379 non-null   float64\n",
            " 58  GarageFinish   1379 non-null   object \n",
            " 59  GarageCars     1460 non-null   int64  \n",
            " 60  GarageArea     1460 non-null   int64  \n",
            " 61  GarageQual     1379 non-null   object \n",
            " 62  GarageCond     1379 non-null   object \n",
            " 63  PavedDrive     1460 non-null   object \n",
            " 64  WoodDeckSF     1460 non-null   int64  \n",
            " 65  OpenPorchSF    1460 non-null   int64  \n",
            " 66  EnclosedPorch  1460 non-null   int64  \n",
            " 67  3SsnPorch      1460 non-null   int64  \n",
            " 68  ScreenPorch    1460 non-null   int64  \n",
            " 69  PoolArea       1460 non-null   int64  \n",
            " 70  MiscVal        1460 non-null   int64  \n",
            " 71  MoSold         1460 non-null   int64  \n",
            " 72  YrSold         1460 non-null   int64  \n",
            " 73  SaleType       1460 non-null   object \n",
            " 74  SaleCondition  1460 non-null   object \n",
            "dtypes: float64(3), int64(34), object(38)\n",
            "memory usage: 855.6+ KB\n"
          ]
        }
      ]
    },
    {
      "cell_type": "code",
      "source": [
        "x_train[\"LotFrontage\"] = x_train[\"LotFrontage\"].fillna(x_train[\"LotFrontage\"].median())"
      ],
      "metadata": {
        "id": "APsfPSP21kua"
      },
      "execution_count": 36,
      "outputs": []
    },
    {
      "cell_type": "code",
      "source": [
        "x_train[\"MasVnrType\"].value_counts()"
      ],
      "metadata": {
        "colab": {
          "base_uri": "https://localhost:8080/"
        },
        "id": "78jw-SKy2T6w",
        "outputId": "34f1aa50-1638-4076-8152-8556d7caa462"
      },
      "execution_count": 39,
      "outputs": [
        {
          "output_type": "execute_result",
          "data": {
            "text/plain": [
              "None       864\n",
              "BrkFace    445\n",
              "Stone      128\n",
              "BrkCmn      15\n",
              "Name: MasVnrType, dtype: int64"
            ]
          },
          "metadata": {},
          "execution_count": 39
        }
      ]
    },
    {
      "cell_type": "code",
      "source": [
        "x_train[\"MasVnrType\"] = x_train[\"MasVnrType\"].fillna(x_train[\"MasVnrType\"].mode()[0])"
      ],
      "metadata": {
        "id": "ZnCSRfWNxUgL"
      },
      "execution_count": 69,
      "outputs": []
    },
    {
      "cell_type": "code",
      "source": [
        "x_train[\"MasVnrArea\"]"
      ],
      "metadata": {
        "colab": {
          "base_uri": "https://localhost:8080/"
        },
        "id": "NzmhBooTx_c_",
        "outputId": "d8706940-37b6-4a84-c877-dbffa03eafc1"
      },
      "execution_count": 42,
      "outputs": [
        {
          "output_type": "execute_result",
          "data": {
            "text/plain": [
              "0       196.0\n",
              "1         0.0\n",
              "2       162.0\n",
              "3         0.0\n",
              "4       350.0\n",
              "        ...  \n",
              "1455      0.0\n",
              "1456    119.0\n",
              "1457      0.0\n",
              "1458      0.0\n",
              "1459      0.0\n",
              "Name: MasVnrArea, Length: 1460, dtype: float64"
            ]
          },
          "metadata": {},
          "execution_count": 42
        }
      ]
    },
    {
      "cell_type": "code",
      "source": [
        "x_train[\"MasVnrArea\"] = x_train[\"MasVnrArea\"].fillna(x_train[\"MasVnrArea\"].median())"
      ],
      "metadata": {
        "id": "zr3MZzK43xG-"
      },
      "execution_count": 43,
      "outputs": []
    },
    {
      "cell_type": "code",
      "source": [
        "x_train[\"BsmtQual\"].value_counts()"
      ],
      "metadata": {
        "colab": {
          "base_uri": "https://localhost:8080/"
        },
        "id": "HypQzFHv3xMG",
        "outputId": "ac64879a-9f01-4feb-80c0-d4829c1d6d17"
      },
      "execution_count": 46,
      "outputs": [
        {
          "output_type": "execute_result",
          "data": {
            "text/plain": [
              "TA    649\n",
              "Gd    618\n",
              "Ex    121\n",
              "Fa     35\n",
              "Name: BsmtQual, dtype: int64"
            ]
          },
          "metadata": {},
          "execution_count": 46
        }
      ]
    },
    {
      "cell_type": "code",
      "source": [
        "x_train[\"BsmtCond\"].value_counts()"
      ],
      "metadata": {
        "colab": {
          "base_uri": "https://localhost:8080/"
        },
        "id": "BWt7Iwx63xOy",
        "outputId": "2584cb26-a041-4d5d-e075-308eaaa7ea46"
      },
      "execution_count": 47,
      "outputs": [
        {
          "output_type": "execute_result",
          "data": {
            "text/plain": [
              "TA    1311\n",
              "Gd      65\n",
              "Fa      45\n",
              "Po       2\n",
              "Name: BsmtCond, dtype: int64"
            ]
          },
          "metadata": {},
          "execution_count": 47
        }
      ]
    },
    {
      "cell_type": "code",
      "source": [
        "x_train[\"BsmtQual\"]=x_train[\"BsmtQual\"].astype(\"category\")\n",
        "x_train[\"BsmtCond\"]=x_train[\"BsmtCond\"].astype(\"category\")"
      ],
      "metadata": {
        "id": "rw62OYnZ5EGP"
      },
      "execution_count": 54,
      "outputs": []
    },
    {
      "cell_type": "code",
      "source": [
        "x_train[\"BsmtQual\"] = x_train[\"BsmtQual\"].fillna(x_train[\"BsmtQual\"].mode()[0])\n",
        "x_train[\"BsmtCond\"] = x_train[\"BsmtCond\"].fillna(x_train[\"BsmtCond\"].mode()[0])"
      ],
      "metadata": {
        "id": "5Ukk_bo-3xRr"
      },
      "execution_count": 68,
      "outputs": []
    },
    {
      "cell_type": "code",
      "source": [
        "x_train[\"BsmtExposure\"].value_counts()"
      ],
      "metadata": {
        "colab": {
          "base_uri": "https://localhost:8080/"
        },
        "id": "Q2Fj9w_Y6oMZ",
        "outputId": "167e9855-4012-41bd-a55e-8edb59aa2c2b"
      },
      "execution_count": 57,
      "outputs": [
        {
          "output_type": "execute_result",
          "data": {
            "text/plain": [
              "No    953\n",
              "Av    221\n",
              "Gd    134\n",
              "Mn    114\n",
              "Name: BsmtExposure, dtype: int64"
            ]
          },
          "metadata": {},
          "execution_count": 57
        }
      ]
    },
    {
      "cell_type": "code",
      "source": [
        "x_train[\"BsmtFinType1\"].value_counts()"
      ],
      "metadata": {
        "colab": {
          "base_uri": "https://localhost:8080/"
        },
        "id": "qq0Qa6gI6xcA",
        "outputId": "e41add1c-846c-404a-83b7-94479e4ab459"
      },
      "execution_count": 58,
      "outputs": [
        {
          "output_type": "execute_result",
          "data": {
            "text/plain": [
              "Unf    430\n",
              "GLQ    418\n",
              "ALQ    220\n",
              "BLQ    148\n",
              "Rec    133\n",
              "LwQ     74\n",
              "Name: BsmtFinType1, dtype: int64"
            ]
          },
          "metadata": {},
          "execution_count": 58
        }
      ]
    },
    {
      "cell_type": "code",
      "source": [
        "x_train[\"BsmtFinType2\"].value_counts()"
      ],
      "metadata": {
        "colab": {
          "base_uri": "https://localhost:8080/"
        },
        "id": "Yzro6kLu6yiI",
        "outputId": "cdaabad2-9f68-46bd-9768-628accf135c0"
      },
      "execution_count": 59,
      "outputs": [
        {
          "output_type": "execute_result",
          "data": {
            "text/plain": [
              "Unf    1256\n",
              "Rec      54\n",
              "LwQ      46\n",
              "BLQ      33\n",
              "ALQ      19\n",
              "GLQ      14\n",
              "Name: BsmtFinType2, dtype: int64"
            ]
          },
          "metadata": {},
          "execution_count": 59
        }
      ]
    },
    {
      "cell_type": "code",
      "source": [
        "x_train[\"BsmtExposure\"] = x_train[\"BsmtExposure\"].fillna(x_train[\"BsmtExposure\"].mode()[0])\n",
        "x_train[\"BsmtFinType1\"] = x_train[\"BsmtFinType1\"].fillna(x_train[\"BsmtFinType1\"].mode()[0])\n",
        "x_train[\"BsmtFinType2\"] = x_train[\"BsmtFinType2\"].fillna(x_train[\"BsmtFinType2\"].mode()[0])"
      ],
      "metadata": {
        "id": "faclDjJC6ykU"
      },
      "execution_count": 66,
      "outputs": []
    },
    {
      "cell_type": "code",
      "source": [
        "x_train.info()"
      ],
      "metadata": {
        "colab": {
          "base_uri": "https://localhost:8080/"
        },
        "id": "7FMpLqCm6ynB",
        "outputId": "fecca84b-c0bd-44b5-b0b4-6ffc16e194b2"
      },
      "execution_count": 70,
      "outputs": [
        {
          "output_type": "stream",
          "name": "stdout",
          "text": [
            "<class 'pandas.core.frame.DataFrame'>\n",
            "RangeIndex: 1460 entries, 0 to 1459\n",
            "Data columns (total 75 columns):\n",
            " #   Column         Non-Null Count  Dtype   \n",
            "---  ------         --------------  -----   \n",
            " 0   Id             1460 non-null   int64   \n",
            " 1   MSSubClass     1460 non-null   int64   \n",
            " 2   MSZoning       1460 non-null   object  \n",
            " 3   LotFrontage    1460 non-null   float64 \n",
            " 4   LotArea        1460 non-null   int64   \n",
            " 5   Street         1460 non-null   object  \n",
            " 6   LotShape       1460 non-null   object  \n",
            " 7   LandContour    1460 non-null   object  \n",
            " 8   Utilities      1460 non-null   object  \n",
            " 9   LotConfig      1460 non-null   object  \n",
            " 10  LandSlope      1460 non-null   object  \n",
            " 11  Neighborhood   1460 non-null   object  \n",
            " 12  Condition1     1460 non-null   object  \n",
            " 13  Condition2     1460 non-null   object  \n",
            " 14  BldgType       1460 non-null   object  \n",
            " 15  HouseStyle     1460 non-null   object  \n",
            " 16  OverallQual    1460 non-null   int64   \n",
            " 17  OverallCond    1460 non-null   int64   \n",
            " 18  YearBuilt      1460 non-null   int64   \n",
            " 19  YearRemodAdd   1460 non-null   int64   \n",
            " 20  RoofStyle      1460 non-null   object  \n",
            " 21  RoofMatl       1460 non-null   object  \n",
            " 22  Exterior1st    1460 non-null   object  \n",
            " 23  Exterior2nd    1460 non-null   object  \n",
            " 24  MasVnrType     1460 non-null   object  \n",
            " 25  MasVnrArea     1460 non-null   float64 \n",
            " 26  ExterQual      1460 non-null   object  \n",
            " 27  ExterCond      1460 non-null   object  \n",
            " 28  Foundation     1460 non-null   object  \n",
            " 29  BsmtQual       1460 non-null   category\n",
            " 30  BsmtCond       1460 non-null   category\n",
            " 31  BsmtExposure   1460 non-null   object  \n",
            " 32  BsmtFinType1   1460 non-null   object  \n",
            " 33  BsmtFinSF1     1460 non-null   int64   \n",
            " 34  BsmtFinType2   1460 non-null   object  \n",
            " 35  BsmtFinSF2     1460 non-null   int64   \n",
            " 36  BsmtUnfSF      1460 non-null   int64   \n",
            " 37  TotalBsmtSF    1460 non-null   int64   \n",
            " 38  Heating        1460 non-null   object  \n",
            " 39  HeatingQC      1460 non-null   object  \n",
            " 40  CentralAir     1460 non-null   object  \n",
            " 41  Electrical     1459 non-null   object  \n",
            " 42  1stFlrSF       1460 non-null   int64   \n",
            " 43  2ndFlrSF       1460 non-null   int64   \n",
            " 44  LowQualFinSF   1460 non-null   int64   \n",
            " 45  GrLivArea      1460 non-null   int64   \n",
            " 46  BsmtFullBath   1460 non-null   int64   \n",
            " 47  BsmtHalfBath   1460 non-null   int64   \n",
            " 48  FullBath       1460 non-null   int64   \n",
            " 49  HalfBath       1460 non-null   int64   \n",
            " 50  BedroomAbvGr   1460 non-null   int64   \n",
            " 51  KitchenAbvGr   1460 non-null   int64   \n",
            " 52  KitchenQual    1460 non-null   object  \n",
            " 53  TotRmsAbvGrd   1460 non-null   int64   \n",
            " 54  Functional     1460 non-null   object  \n",
            " 55  Fireplaces     1460 non-null   int64   \n",
            " 56  GarageType     1379 non-null   object  \n",
            " 57  GarageYrBlt    1379 non-null   float64 \n",
            " 58  GarageFinish   1379 non-null   object  \n",
            " 59  GarageCars     1460 non-null   int64   \n",
            " 60  GarageArea     1460 non-null   int64   \n",
            " 61  GarageQual     1379 non-null   object  \n",
            " 62  GarageCond     1379 non-null   object  \n",
            " 63  PavedDrive     1460 non-null   object  \n",
            " 64  WoodDeckSF     1460 non-null   int64   \n",
            " 65  OpenPorchSF    1460 non-null   int64   \n",
            " 66  EnclosedPorch  1460 non-null   int64   \n",
            " 67  3SsnPorch      1460 non-null   int64   \n",
            " 68  ScreenPorch    1460 non-null   int64   \n",
            " 69  PoolArea       1460 non-null   int64   \n",
            " 70  MiscVal        1460 non-null   int64   \n",
            " 71  MoSold         1460 non-null   int64   \n",
            " 72  YrSold         1460 non-null   int64   \n",
            " 73  SaleType       1460 non-null   object  \n",
            " 74  SaleCondition  1460 non-null   object  \n",
            "dtypes: category(2), float64(3), int64(34), object(36)\n",
            "memory usage: 836.0+ KB\n"
          ]
        }
      ]
    },
    {
      "cell_type": "code",
      "source": [
        "x_train[\"Electrical\"].value_counts()"
      ],
      "metadata": {
        "colab": {
          "base_uri": "https://localhost:8080/"
        },
        "id": "Z1XYVFeS7StD",
        "outputId": "d5291771-3fff-4d1e-9b16-adbc978e60ae"
      },
      "execution_count": 73,
      "outputs": [
        {
          "output_type": "execute_result",
          "data": {
            "text/plain": [
              "SBrkr    1334\n",
              "FuseA      94\n",
              "FuseF      27\n",
              "FuseP       3\n",
              "Mix         1\n",
              "Name: Electrical, dtype: int64"
            ]
          },
          "metadata": {},
          "execution_count": 73
        }
      ]
    },
    {
      "cell_type": "code",
      "source": [
        "x_train[\"Electrical\"] = x_train[\"Electrical\"].fillna(x_train[\"Electrical\"].mode()[0])"
      ],
      "metadata": {
        "id": "Fk9bYEIF8UQS"
      },
      "execution_count": 74,
      "outputs": []
    },
    {
      "cell_type": "code",
      "source": [
        "x_train[\"GarageType\"].value_counts()"
      ],
      "metadata": {
        "colab": {
          "base_uri": "https://localhost:8080/"
        },
        "id": "_z1l1tEi8rzI",
        "outputId": "0b8f7058-7fca-4b12-a277-1d5fca0479ac"
      },
      "execution_count": 76,
      "outputs": [
        {
          "output_type": "execute_result",
          "data": {
            "text/plain": [
              "Attchd     870\n",
              "Detchd     387\n",
              "BuiltIn     88\n",
              "Basment     19\n",
              "CarPort      9\n",
              "2Types       6\n",
              "Name: GarageType, dtype: int64"
            ]
          },
          "metadata": {},
          "execution_count": 76
        }
      ]
    },
    {
      "cell_type": "code",
      "source": [
        "x_train[\"GarageFinish\"].value_counts()"
      ],
      "metadata": {
        "colab": {
          "base_uri": "https://localhost:8080/"
        },
        "id": "xDa9eRKb8r11",
        "outputId": "4b3efbd1-909c-4519-eaeb-0d3d87e4be04"
      },
      "execution_count": 78,
      "outputs": [
        {
          "output_type": "execute_result",
          "data": {
            "text/plain": [
              "Unf    605\n",
              "RFn    422\n",
              "Fin    352\n",
              "Name: GarageFinish, dtype: int64"
            ]
          },
          "metadata": {},
          "execution_count": 78
        }
      ]
    },
    {
      "cell_type": "code",
      "source": [
        "x_train[\"GarageQual\"].value_counts()"
      ],
      "metadata": {
        "colab": {
          "base_uri": "https://localhost:8080/"
        },
        "id": "wgx7bJuT8r4u",
        "outputId": "807d91af-25fd-42d1-8467-235b9507516c"
      },
      "execution_count": 79,
      "outputs": [
        {
          "output_type": "execute_result",
          "data": {
            "text/plain": [
              "TA    1311\n",
              "Fa      48\n",
              "Gd      14\n",
              "Ex       3\n",
              "Po       3\n",
              "Name: GarageQual, dtype: int64"
            ]
          },
          "metadata": {},
          "execution_count": 79
        }
      ]
    },
    {
      "cell_type": "code",
      "source": [
        "x_train[\"GarageCond\"].value_counts()"
      ],
      "metadata": {
        "colab": {
          "base_uri": "https://localhost:8080/"
        },
        "id": "12Omeo8j9OaK",
        "outputId": "b95bb212-aeba-4bde-bf31-96959b507e7b"
      },
      "execution_count": 80,
      "outputs": [
        {
          "output_type": "execute_result",
          "data": {
            "text/plain": [
              "TA    1326\n",
              "Fa      35\n",
              "Gd       9\n",
              "Po       7\n",
              "Ex       2\n",
              "Name: GarageCond, dtype: int64"
            ]
          },
          "metadata": {},
          "execution_count": 80
        }
      ]
    },
    {
      "cell_type": "code",
      "source": [
        "x_train[\"GarageType\"] = x_train[\"GarageType\"].fillna(x_train[\"GarageType\"].mode()[0])\n",
        "x_train[\"GarageFinish\"] = x_train[\"GarageFinish\"].fillna(x_train[\"GarageFinish\"].mode()[0])\n",
        "x_train[\"GarageQual\"] = x_train[\"GarageQual\"].fillna(x_train[\"GarageQual\"].mode()[0])\n",
        "x_train[\"GarageCond\"] = x_train[\"GarageCond\"].fillna(x_train[\"GarageCond\"].mode()[0])"
      ],
      "metadata": {
        "id": "KW2ttlQK9Oc1"
      },
      "execution_count": 81,
      "outputs": []
    },
    {
      "cell_type": "code",
      "source": [
        "x_train.info()"
      ],
      "metadata": {
        "colab": {
          "base_uri": "https://localhost:8080/"
        },
        "id": "UAjF8Tyc9Ofr",
        "outputId": "110fd5f7-ea57-4909-8a77-2601114bf18d"
      },
      "execution_count": 97,
      "outputs": [
        {
          "output_type": "stream",
          "name": "stdout",
          "text": [
            "<class 'pandas.core.frame.DataFrame'>\n",
            "RangeIndex: 1460 entries, 0 to 1459\n",
            "Data columns (total 75 columns):\n",
            " #   Column         Non-Null Count  Dtype   \n",
            "---  ------         --------------  -----   \n",
            " 0   Id             1460 non-null   int64   \n",
            " 1   MSSubClass     1460 non-null   int64   \n",
            " 2   MSZoning       1460 non-null   object  \n",
            " 3   LotFrontage    1460 non-null   float64 \n",
            " 4   LotArea        1460 non-null   int64   \n",
            " 5   Street         1460 non-null   object  \n",
            " 6   LotShape       1460 non-null   object  \n",
            " 7   LandContour    1460 non-null   object  \n",
            " 8   Utilities      1460 non-null   object  \n",
            " 9   LotConfig      1460 non-null   object  \n",
            " 10  LandSlope      1460 non-null   object  \n",
            " 11  Neighborhood   1460 non-null   object  \n",
            " 12  Condition1     1460 non-null   object  \n",
            " 13  Condition2     1460 non-null   object  \n",
            " 14  BldgType       1460 non-null   object  \n",
            " 15  HouseStyle     1460 non-null   object  \n",
            " 16  OverallQual    1460 non-null   int64   \n",
            " 17  OverallCond    1460 non-null   int64   \n",
            " 18  YearBuilt      1460 non-null   int64   \n",
            " 19  YearRemodAdd   1460 non-null   int64   \n",
            " 20  RoofStyle      1460 non-null   object  \n",
            " 21  RoofMatl       1460 non-null   object  \n",
            " 22  Exterior1st    1460 non-null   object  \n",
            " 23  Exterior2nd    1460 non-null   object  \n",
            " 24  MasVnrType     1460 non-null   object  \n",
            " 25  MasVnrArea     1460 non-null   float64 \n",
            " 26  ExterQual      1460 non-null   object  \n",
            " 27  ExterCond      1460 non-null   object  \n",
            " 28  Foundation     1460 non-null   object  \n",
            " 29  BsmtQual       1460 non-null   category\n",
            " 30  BsmtCond       1460 non-null   category\n",
            " 31  BsmtExposure   1460 non-null   object  \n",
            " 32  BsmtFinType1   1460 non-null   object  \n",
            " 33  BsmtFinSF1     1460 non-null   int64   \n",
            " 34  BsmtFinType2   1460 non-null   object  \n",
            " 35  BsmtFinSF2     1460 non-null   int64   \n",
            " 36  BsmtUnfSF      1460 non-null   int64   \n",
            " 37  TotalBsmtSF    1460 non-null   int64   \n",
            " 38  Heating        1460 non-null   object  \n",
            " 39  HeatingQC      1460 non-null   object  \n",
            " 40  CentralAir     1460 non-null   object  \n",
            " 41  Electrical     1460 non-null   object  \n",
            " 42  1stFlrSF       1460 non-null   int64   \n",
            " 43  2ndFlrSF       1460 non-null   int64   \n",
            " 44  LowQualFinSF   1460 non-null   int64   \n",
            " 45  GrLivArea      1460 non-null   int64   \n",
            " 46  BsmtFullBath   1460 non-null   int64   \n",
            " 47  BsmtHalfBath   1460 non-null   int64   \n",
            " 48  FullBath       1460 non-null   int64   \n",
            " 49  HalfBath       1460 non-null   int64   \n",
            " 50  BedroomAbvGr   1460 non-null   int64   \n",
            " 51  KitchenAbvGr   1460 non-null   int64   \n",
            " 52  KitchenQual    1460 non-null   object  \n",
            " 53  TotRmsAbvGrd   1460 non-null   int64   \n",
            " 54  Functional     1460 non-null   object  \n",
            " 55  Fireplaces     1460 non-null   int64   \n",
            " 56  GarageType     1460 non-null   object  \n",
            " 57  GarageYrBlt    1379 non-null   float64 \n",
            " 58  GarageFinish   1460 non-null   object  \n",
            " 59  GarageCars     1460 non-null   int64   \n",
            " 60  GarageArea     1460 non-null   int64   \n",
            " 61  GarageQual     1460 non-null   object  \n",
            " 62  GarageCond     1460 non-null   object  \n",
            " 63  PavedDrive     1460 non-null   object  \n",
            " 64  WoodDeckSF     1460 non-null   int64   \n",
            " 65  OpenPorchSF    1460 non-null   int64   \n",
            " 66  EnclosedPorch  1460 non-null   int64   \n",
            " 67  3SsnPorch      1460 non-null   int64   \n",
            " 68  ScreenPorch    1460 non-null   int64   \n",
            " 69  PoolArea       1460 non-null   int64   \n",
            " 70  MiscVal        1460 non-null   int64   \n",
            " 71  MoSold         1460 non-null   int64   \n",
            " 72  YrSold         1460 non-null   int64   \n",
            " 73  SaleType       1460 non-null   object  \n",
            " 74  SaleCondition  1460 non-null   object  \n",
            "dtypes: category(2), float64(3), int64(34), object(36)\n",
            "memory usage: 836.0+ KB\n"
          ]
        }
      ]
    },
    {
      "cell_type": "code",
      "source": [
        "x_train[\"GarageYrBlt\"]"
      ],
      "metadata": {
        "colab": {
          "base_uri": "https://localhost:8080/"
        },
        "id": "8AT_cmNBI0jU",
        "outputId": "db5784b6-9945-44d8-edc6-09bfb8f26587"
      },
      "execution_count": 98,
      "outputs": [
        {
          "output_type": "execute_result",
          "data": {
            "text/plain": [
              "0       2003.0\n",
              "1       1976.0\n",
              "2       2001.0\n",
              "3       1998.0\n",
              "4       2000.0\n",
              "         ...  \n",
              "1455    1999.0\n",
              "1456    1978.0\n",
              "1457    1941.0\n",
              "1458    1950.0\n",
              "1459    1965.0\n",
              "Name: GarageYrBlt, Length: 1460, dtype: float64"
            ]
          },
          "metadata": {},
          "execution_count": 98
        }
      ]
    },
    {
      "cell_type": "code",
      "source": [
        "x_train[\"GarageYrBlt\"] = x_train[\"GarageYrBlt\"].fillna(x_train[\"GarageYrBlt\"].median())"
      ],
      "metadata": {
        "id": "5k-oaE4JI8Be"
      },
      "execution_count": 99,
      "outputs": []
    },
    {
      "cell_type": "code",
      "source": [
        "x_train.info()"
      ],
      "metadata": {
        "colab": {
          "base_uri": "https://localhost:8080/"
        },
        "id": "LBacJVTKJI-_",
        "outputId": "b43b7317-f0c4-4642-f560-8dff44094afd"
      },
      "execution_count": 101,
      "outputs": [
        {
          "output_type": "stream",
          "name": "stdout",
          "text": [
            "<class 'pandas.core.frame.DataFrame'>\n",
            "RangeIndex: 1460 entries, 0 to 1459\n",
            "Data columns (total 75 columns):\n",
            " #   Column         Non-Null Count  Dtype   \n",
            "---  ------         --------------  -----   \n",
            " 0   Id             1460 non-null   int64   \n",
            " 1   MSSubClass     1460 non-null   int64   \n",
            " 2   MSZoning       1460 non-null   object  \n",
            " 3   LotFrontage    1460 non-null   float64 \n",
            " 4   LotArea        1460 non-null   int64   \n",
            " 5   Street         1460 non-null   object  \n",
            " 6   LotShape       1460 non-null   object  \n",
            " 7   LandContour    1460 non-null   object  \n",
            " 8   Utilities      1460 non-null   object  \n",
            " 9   LotConfig      1460 non-null   object  \n",
            " 10  LandSlope      1460 non-null   object  \n",
            " 11  Neighborhood   1460 non-null   object  \n",
            " 12  Condition1     1460 non-null   object  \n",
            " 13  Condition2     1460 non-null   object  \n",
            " 14  BldgType       1460 non-null   object  \n",
            " 15  HouseStyle     1460 non-null   object  \n",
            " 16  OverallQual    1460 non-null   int64   \n",
            " 17  OverallCond    1460 non-null   int64   \n",
            " 18  YearBuilt      1460 non-null   int64   \n",
            " 19  YearRemodAdd   1460 non-null   int64   \n",
            " 20  RoofStyle      1460 non-null   object  \n",
            " 21  RoofMatl       1460 non-null   object  \n",
            " 22  Exterior1st    1460 non-null   object  \n",
            " 23  Exterior2nd    1460 non-null   object  \n",
            " 24  MasVnrType     1460 non-null   object  \n",
            " 25  MasVnrArea     1460 non-null   float64 \n",
            " 26  ExterQual      1460 non-null   object  \n",
            " 27  ExterCond      1460 non-null   object  \n",
            " 28  Foundation     1460 non-null   object  \n",
            " 29  BsmtQual       1460 non-null   category\n",
            " 30  BsmtCond       1460 non-null   category\n",
            " 31  BsmtExposure   1460 non-null   object  \n",
            " 32  BsmtFinType1   1460 non-null   object  \n",
            " 33  BsmtFinSF1     1460 non-null   int64   \n",
            " 34  BsmtFinType2   1460 non-null   object  \n",
            " 35  BsmtFinSF2     1460 non-null   int64   \n",
            " 36  BsmtUnfSF      1460 non-null   int64   \n",
            " 37  TotalBsmtSF    1460 non-null   int64   \n",
            " 38  Heating        1460 non-null   object  \n",
            " 39  HeatingQC      1460 non-null   object  \n",
            " 40  CentralAir     1460 non-null   object  \n",
            " 41  Electrical     1460 non-null   object  \n",
            " 42  1stFlrSF       1460 non-null   int64   \n",
            " 43  2ndFlrSF       1460 non-null   int64   \n",
            " 44  LowQualFinSF   1460 non-null   int64   \n",
            " 45  GrLivArea      1460 non-null   int64   \n",
            " 46  BsmtFullBath   1460 non-null   int64   \n",
            " 47  BsmtHalfBath   1460 non-null   int64   \n",
            " 48  FullBath       1460 non-null   int64   \n",
            " 49  HalfBath       1460 non-null   int64   \n",
            " 50  BedroomAbvGr   1460 non-null   int64   \n",
            " 51  KitchenAbvGr   1460 non-null   int64   \n",
            " 52  KitchenQual    1460 non-null   object  \n",
            " 53  TotRmsAbvGrd   1460 non-null   int64   \n",
            " 54  Functional     1460 non-null   object  \n",
            " 55  Fireplaces     1460 non-null   int64   \n",
            " 56  GarageType     1460 non-null   object  \n",
            " 57  GarageYrBlt    1460 non-null   float64 \n",
            " 58  GarageFinish   1460 non-null   object  \n",
            " 59  GarageCars     1460 non-null   int64   \n",
            " 60  GarageArea     1460 non-null   int64   \n",
            " 61  GarageQual     1460 non-null   object  \n",
            " 62  GarageCond     1460 non-null   object  \n",
            " 63  PavedDrive     1460 non-null   object  \n",
            " 64  WoodDeckSF     1460 non-null   int64   \n",
            " 65  OpenPorchSF    1460 non-null   int64   \n",
            " 66  EnclosedPorch  1460 non-null   int64   \n",
            " 67  3SsnPorch      1460 non-null   int64   \n",
            " 68  ScreenPorch    1460 non-null   int64   \n",
            " 69  PoolArea       1460 non-null   int64   \n",
            " 70  MiscVal        1460 non-null   int64   \n",
            " 71  MoSold         1460 non-null   int64   \n",
            " 72  YrSold         1460 non-null   int64   \n",
            " 73  SaleType       1460 non-null   object  \n",
            " 74  SaleCondition  1460 non-null   object  \n",
            "dtypes: category(2), float64(3), int64(34), object(36)\n",
            "memory usage: 836.0+ KB\n"
          ]
        }
      ]
    },
    {
      "cell_type": "markdown",
      "source": [
        "All null values in train datset have been filled . Now lets check the test dataset for mising values"
      ],
      "metadata": {
        "id": "ZtZz_ctR-V-_"
      }
    },
    {
      "cell_type": "code",
      "source": [
        "test.head(3)"
      ],
      "metadata": {
        "colab": {
          "base_uri": "https://localhost:8080/",
          "height": 237
        },
        "id": "KiKx1Vul9OiL",
        "outputId": "cedfb1c1-893b-485d-aebc-035a899a8dcf"
      },
      "execution_count": 102,
      "outputs": [
        {
          "output_type": "execute_result",
          "data": {
            "text/plain": [
              "     Id  MSSubClass MSZoning  LotFrontage  LotArea Street Alley LotShape  \\\n",
              "0  1461          20       RH         80.0    11622   Pave   NaN      Reg   \n",
              "1  1462          20       RL         81.0    14267   Pave   NaN      IR1   \n",
              "2  1463          60       RL         74.0    13830   Pave   NaN      IR1   \n",
              "\n",
              "  LandContour Utilities  ... ScreenPorch PoolArea PoolQC  Fence MiscFeature  \\\n",
              "0         Lvl    AllPub  ...         120        0    NaN  MnPrv         NaN   \n",
              "1         Lvl    AllPub  ...           0        0    NaN    NaN        Gar2   \n",
              "2         Lvl    AllPub  ...           0        0    NaN  MnPrv         NaN   \n",
              "\n",
              "  MiscVal MoSold  YrSold  SaleType  SaleCondition  \n",
              "0       0      6    2010        WD         Normal  \n",
              "1   12500      6    2010        WD         Normal  \n",
              "2       0      3    2010        WD         Normal  \n",
              "\n",
              "[3 rows x 80 columns]"
            ],
            "text/html": [
              "\n",
              "  <div id=\"df-35622d02-8938-4e83-8064-2d13f812980c\">\n",
              "    <div class=\"colab-df-container\">\n",
              "      <div>\n",
              "<style scoped>\n",
              "    .dataframe tbody tr th:only-of-type {\n",
              "        vertical-align: middle;\n",
              "    }\n",
              "\n",
              "    .dataframe tbody tr th {\n",
              "        vertical-align: top;\n",
              "    }\n",
              "\n",
              "    .dataframe thead th {\n",
              "        text-align: right;\n",
              "    }\n",
              "</style>\n",
              "<table border=\"1\" class=\"dataframe\">\n",
              "  <thead>\n",
              "    <tr style=\"text-align: right;\">\n",
              "      <th></th>\n",
              "      <th>Id</th>\n",
              "      <th>MSSubClass</th>\n",
              "      <th>MSZoning</th>\n",
              "      <th>LotFrontage</th>\n",
              "      <th>LotArea</th>\n",
              "      <th>Street</th>\n",
              "      <th>Alley</th>\n",
              "      <th>LotShape</th>\n",
              "      <th>LandContour</th>\n",
              "      <th>Utilities</th>\n",
              "      <th>...</th>\n",
              "      <th>ScreenPorch</th>\n",
              "      <th>PoolArea</th>\n",
              "      <th>PoolQC</th>\n",
              "      <th>Fence</th>\n",
              "      <th>MiscFeature</th>\n",
              "      <th>MiscVal</th>\n",
              "      <th>MoSold</th>\n",
              "      <th>YrSold</th>\n",
              "      <th>SaleType</th>\n",
              "      <th>SaleCondition</th>\n",
              "    </tr>\n",
              "  </thead>\n",
              "  <tbody>\n",
              "    <tr>\n",
              "      <th>0</th>\n",
              "      <td>1461</td>\n",
              "      <td>20</td>\n",
              "      <td>RH</td>\n",
              "      <td>80.0</td>\n",
              "      <td>11622</td>\n",
              "      <td>Pave</td>\n",
              "      <td>NaN</td>\n",
              "      <td>Reg</td>\n",
              "      <td>Lvl</td>\n",
              "      <td>AllPub</td>\n",
              "      <td>...</td>\n",
              "      <td>120</td>\n",
              "      <td>0</td>\n",
              "      <td>NaN</td>\n",
              "      <td>MnPrv</td>\n",
              "      <td>NaN</td>\n",
              "      <td>0</td>\n",
              "      <td>6</td>\n",
              "      <td>2010</td>\n",
              "      <td>WD</td>\n",
              "      <td>Normal</td>\n",
              "    </tr>\n",
              "    <tr>\n",
              "      <th>1</th>\n",
              "      <td>1462</td>\n",
              "      <td>20</td>\n",
              "      <td>RL</td>\n",
              "      <td>81.0</td>\n",
              "      <td>14267</td>\n",
              "      <td>Pave</td>\n",
              "      <td>NaN</td>\n",
              "      <td>IR1</td>\n",
              "      <td>Lvl</td>\n",
              "      <td>AllPub</td>\n",
              "      <td>...</td>\n",
              "      <td>0</td>\n",
              "      <td>0</td>\n",
              "      <td>NaN</td>\n",
              "      <td>NaN</td>\n",
              "      <td>Gar2</td>\n",
              "      <td>12500</td>\n",
              "      <td>6</td>\n",
              "      <td>2010</td>\n",
              "      <td>WD</td>\n",
              "      <td>Normal</td>\n",
              "    </tr>\n",
              "    <tr>\n",
              "      <th>2</th>\n",
              "      <td>1463</td>\n",
              "      <td>60</td>\n",
              "      <td>RL</td>\n",
              "      <td>74.0</td>\n",
              "      <td>13830</td>\n",
              "      <td>Pave</td>\n",
              "      <td>NaN</td>\n",
              "      <td>IR1</td>\n",
              "      <td>Lvl</td>\n",
              "      <td>AllPub</td>\n",
              "      <td>...</td>\n",
              "      <td>0</td>\n",
              "      <td>0</td>\n",
              "      <td>NaN</td>\n",
              "      <td>MnPrv</td>\n",
              "      <td>NaN</td>\n",
              "      <td>0</td>\n",
              "      <td>3</td>\n",
              "      <td>2010</td>\n",
              "      <td>WD</td>\n",
              "      <td>Normal</td>\n",
              "    </tr>\n",
              "  </tbody>\n",
              "</table>\n",
              "<p>3 rows × 80 columns</p>\n",
              "</div>\n",
              "      <button class=\"colab-df-convert\" onclick=\"convertToInteractive('df-35622d02-8938-4e83-8064-2d13f812980c')\"\n",
              "              title=\"Convert this dataframe to an interactive table.\"\n",
              "              style=\"display:none;\">\n",
              "        \n",
              "  <svg xmlns=\"http://www.w3.org/2000/svg\" height=\"24px\"viewBox=\"0 0 24 24\"\n",
              "       width=\"24px\">\n",
              "    <path d=\"M0 0h24v24H0V0z\" fill=\"none\"/>\n",
              "    <path d=\"M18.56 5.44l.94 2.06.94-2.06 2.06-.94-2.06-.94-.94-2.06-.94 2.06-2.06.94zm-11 1L8.5 8.5l.94-2.06 2.06-.94-2.06-.94L8.5 2.5l-.94 2.06-2.06.94zm10 10l.94 2.06.94-2.06 2.06-.94-2.06-.94-.94-2.06-.94 2.06-2.06.94z\"/><path d=\"M17.41 7.96l-1.37-1.37c-.4-.4-.92-.59-1.43-.59-.52 0-1.04.2-1.43.59L10.3 9.45l-7.72 7.72c-.78.78-.78 2.05 0 2.83L4 21.41c.39.39.9.59 1.41.59.51 0 1.02-.2 1.41-.59l7.78-7.78 2.81-2.81c.8-.78.8-2.07 0-2.86zM5.41 20L4 18.59l7.72-7.72 1.47 1.35L5.41 20z\"/>\n",
              "  </svg>\n",
              "      </button>\n",
              "      \n",
              "  <style>\n",
              "    .colab-df-container {\n",
              "      display:flex;\n",
              "      flex-wrap:wrap;\n",
              "      gap: 12px;\n",
              "    }\n",
              "\n",
              "    .colab-df-convert {\n",
              "      background-color: #E8F0FE;\n",
              "      border: none;\n",
              "      border-radius: 50%;\n",
              "      cursor: pointer;\n",
              "      display: none;\n",
              "      fill: #1967D2;\n",
              "      height: 32px;\n",
              "      padding: 0 0 0 0;\n",
              "      width: 32px;\n",
              "    }\n",
              "\n",
              "    .colab-df-convert:hover {\n",
              "      background-color: #E2EBFA;\n",
              "      box-shadow: 0px 1px 2px rgba(60, 64, 67, 0.3), 0px 1px 3px 1px rgba(60, 64, 67, 0.15);\n",
              "      fill: #174EA6;\n",
              "    }\n",
              "\n",
              "    [theme=dark] .colab-df-convert {\n",
              "      background-color: #3B4455;\n",
              "      fill: #D2E3FC;\n",
              "    }\n",
              "\n",
              "    [theme=dark] .colab-df-convert:hover {\n",
              "      background-color: #434B5C;\n",
              "      box-shadow: 0px 1px 3px 1px rgba(0, 0, 0, 0.15);\n",
              "      filter: drop-shadow(0px 1px 2px rgba(0, 0, 0, 0.3));\n",
              "      fill: #FFFFFF;\n",
              "    }\n",
              "  </style>\n",
              "\n",
              "      <script>\n",
              "        const buttonEl =\n",
              "          document.querySelector('#df-35622d02-8938-4e83-8064-2d13f812980c button.colab-df-convert');\n",
              "        buttonEl.style.display =\n",
              "          google.colab.kernel.accessAllowed ? 'block' : 'none';\n",
              "\n",
              "        async function convertToInteractive(key) {\n",
              "          const element = document.querySelector('#df-35622d02-8938-4e83-8064-2d13f812980c');\n",
              "          const dataTable =\n",
              "            await google.colab.kernel.invokeFunction('convertToInteractive',\n",
              "                                                     [key], {});\n",
              "          if (!dataTable) return;\n",
              "\n",
              "          const docLinkHtml = 'Like what you see? Visit the ' +\n",
              "            '<a target=\"_blank\" href=https://colab.research.google.com/notebooks/data_table.ipynb>data table notebook</a>'\n",
              "            + ' to learn more about interactive tables.';\n",
              "          element.innerHTML = '';\n",
              "          dataTable['output_type'] = 'display_data';\n",
              "          await google.colab.output.renderOutput(dataTable, element);\n",
              "          const docLink = document.createElement('div');\n",
              "          docLink.innerHTML = docLinkHtml;\n",
              "          element.appendChild(docLink);\n",
              "        }\n",
              "      </script>\n",
              "    </div>\n",
              "  </div>\n",
              "  "
            ]
          },
          "metadata": {},
          "execution_count": 102
        }
      ]
    },
    {
      "cell_type": "code",
      "source": [
        "x_test = test.drop([\"PoolQC\",\"Fence\",\"MiscFeature\",\"FireplaceQu\",\"Alley\"],axis =1)"
      ],
      "metadata": {
        "id": "MP5gqG__-jVe"
      },
      "execution_count": 88,
      "outputs": []
    },
    {
      "cell_type": "code",
      "source": [
        "x_test.info()"
      ],
      "metadata": {
        "colab": {
          "base_uri": "https://localhost:8080/"
        },
        "id": "qh8QJUF9FU1Y",
        "outputId": "b461bf8c-f47f-4711-b890-0ec1a2150c8e"
      },
      "execution_count": 103,
      "outputs": [
        {
          "output_type": "stream",
          "name": "stdout",
          "text": [
            "<class 'pandas.core.frame.DataFrame'>\n",
            "RangeIndex: 1459 entries, 0 to 1458\n",
            "Data columns (total 75 columns):\n",
            " #   Column         Non-Null Count  Dtype  \n",
            "---  ------         --------------  -----  \n",
            " 0   Id             1459 non-null   int64  \n",
            " 1   MSSubClass     1459 non-null   int64  \n",
            " 2   MSZoning       1455 non-null   object \n",
            " 3   LotFrontage    1232 non-null   float64\n",
            " 4   LotArea        1459 non-null   int64  \n",
            " 5   Street         1459 non-null   object \n",
            " 6   LotShape       1459 non-null   object \n",
            " 7   LandContour    1459 non-null   object \n",
            " 8   Utilities      1457 non-null   object \n",
            " 9   LotConfig      1459 non-null   object \n",
            " 10  LandSlope      1459 non-null   object \n",
            " 11  Neighborhood   1459 non-null   object \n",
            " 12  Condition1     1459 non-null   object \n",
            " 13  Condition2     1459 non-null   object \n",
            " 14  BldgType       1459 non-null   object \n",
            " 15  HouseStyle     1459 non-null   object \n",
            " 16  OverallQual    1459 non-null   int64  \n",
            " 17  OverallCond    1459 non-null   int64  \n",
            " 18  YearBuilt      1459 non-null   int64  \n",
            " 19  YearRemodAdd   1459 non-null   int64  \n",
            " 20  RoofStyle      1459 non-null   object \n",
            " 21  RoofMatl       1459 non-null   object \n",
            " 22  Exterior1st    1458 non-null   object \n",
            " 23  Exterior2nd    1458 non-null   object \n",
            " 24  MasVnrType     1443 non-null   object \n",
            " 25  MasVnrArea     1444 non-null   float64\n",
            " 26  ExterQual      1459 non-null   object \n",
            " 27  ExterCond      1459 non-null   object \n",
            " 28  Foundation     1459 non-null   object \n",
            " 29  BsmtQual       1415 non-null   object \n",
            " 30  BsmtCond       1414 non-null   object \n",
            " 31  BsmtExposure   1415 non-null   object \n",
            " 32  BsmtFinType1   1417 non-null   object \n",
            " 33  BsmtFinSF1     1458 non-null   float64\n",
            " 34  BsmtFinType2   1417 non-null   object \n",
            " 35  BsmtFinSF2     1458 non-null   float64\n",
            " 36  BsmtUnfSF      1458 non-null   float64\n",
            " 37  TotalBsmtSF    1458 non-null   float64\n",
            " 38  Heating        1459 non-null   object \n",
            " 39  HeatingQC      1459 non-null   object \n",
            " 40  CentralAir     1459 non-null   object \n",
            " 41  Electrical     1459 non-null   object \n",
            " 42  1stFlrSF       1459 non-null   int64  \n",
            " 43  2ndFlrSF       1459 non-null   int64  \n",
            " 44  LowQualFinSF   1459 non-null   int64  \n",
            " 45  GrLivArea      1459 non-null   int64  \n",
            " 46  BsmtFullBath   1457 non-null   float64\n",
            " 47  BsmtHalfBath   1457 non-null   float64\n",
            " 48  FullBath       1459 non-null   int64  \n",
            " 49  HalfBath       1459 non-null   int64  \n",
            " 50  BedroomAbvGr   1459 non-null   int64  \n",
            " 51  KitchenAbvGr   1459 non-null   int64  \n",
            " 52  KitchenQual    1458 non-null   object \n",
            " 53  TotRmsAbvGrd   1459 non-null   int64  \n",
            " 54  Functional     1457 non-null   object \n",
            " 55  Fireplaces     1459 non-null   int64  \n",
            " 56  GarageType     1383 non-null   object \n",
            " 57  GarageYrBlt    1381 non-null   float64\n",
            " 58  GarageFinish   1381 non-null   object \n",
            " 59  GarageCars     1458 non-null   float64\n",
            " 60  GarageArea     1458 non-null   float64\n",
            " 61  GarageQual     1381 non-null   object \n",
            " 62  GarageCond     1381 non-null   object \n",
            " 63  PavedDrive     1459 non-null   object \n",
            " 64  WoodDeckSF     1459 non-null   int64  \n",
            " 65  OpenPorchSF    1459 non-null   int64  \n",
            " 66  EnclosedPorch  1459 non-null   int64  \n",
            " 67  3SsnPorch      1459 non-null   int64  \n",
            " 68  ScreenPorch    1459 non-null   int64  \n",
            " 69  PoolArea       1459 non-null   int64  \n",
            " 70  MiscVal        1459 non-null   int64  \n",
            " 71  MoSold         1459 non-null   int64  \n",
            " 72  YrSold         1459 non-null   int64  \n",
            " 73  SaleType       1458 non-null   object \n",
            " 74  SaleCondition  1459 non-null   object \n",
            "dtypes: float64(11), int64(26), object(38)\n",
            "memory usage: 855.0+ KB\n"
          ]
        }
      ]
    },
    {
      "cell_type": "code",
      "source": [
        "x_test[\"MSZoning\"].value_counts()"
      ],
      "metadata": {
        "colab": {
          "base_uri": "https://localhost:8080/"
        },
        "id": "s4A5eJmQHZe7",
        "outputId": "b714a818-8dfe-4620-8387-2fff9dbe07ae"
      },
      "execution_count": 104,
      "outputs": [
        {
          "output_type": "execute_result",
          "data": {
            "text/plain": [
              "RL         1114\n",
              "RM          242\n",
              "FV           74\n",
              "C (all)      15\n",
              "RH           10\n",
              "Name: MSZoning, dtype: int64"
            ]
          },
          "metadata": {},
          "execution_count": 104
        }
      ]
    },
    {
      "cell_type": "code",
      "source": [
        "x_test[\"Utilities\"].value_counts()"
      ],
      "metadata": {
        "colab": {
          "base_uri": "https://localhost:8080/"
        },
        "id": "DwauhRlIHpU9",
        "outputId": "c88a43ff-ad14-4a0f-f4bb-fb6b9983ac25"
      },
      "execution_count": 105,
      "outputs": [
        {
          "output_type": "execute_result",
          "data": {
            "text/plain": [
              "AllPub    1457\n",
              "Name: Utilities, dtype: int64"
            ]
          },
          "metadata": {},
          "execution_count": 105
        }
      ]
    },
    {
      "cell_type": "code",
      "source": [
        "x_test[\"LotFrontage\"] = x_test[\"LotFrontage\"].fillna(x_test[\"LotFrontage\"].median())\n",
        "x_test[\"MSZoning\"] = x_test[\"MSZoning\"].fillna(x_test[\"MSZoning\"].mode()[0])\n",
        "x_test[\"Utilities\"] = x_test[\"Utilities\"].fillna(x_test[\"Utilities\"].mode()[0])"
      ],
      "metadata": {
        "id": "0Dw8qJdBG5xf"
      },
      "execution_count": 106,
      "outputs": []
    },
    {
      "cell_type": "code",
      "source": [
        "x_test[\"Exterior1st\"].value_counts()"
      ],
      "metadata": {
        "colab": {
          "base_uri": "https://localhost:8080/"
        },
        "id": "aZ_OmatHG52e",
        "outputId": "5297f961-6ac9-455e-b30c-5318a58dfffa"
      },
      "execution_count": 109,
      "outputs": [
        {
          "output_type": "execute_result",
          "data": {
            "text/plain": [
              "VinylSd    510\n",
              "MetalSd    230\n",
              "HdBoard    220\n",
              "Wd Sdng    205\n",
              "Plywood    113\n",
              "CemntBd     65\n",
              "BrkFace     37\n",
              "WdShing     30\n",
              "AsbShng     24\n",
              "Stucco      18\n",
              "BrkComm      4\n",
              "AsphShn      1\n",
              "CBlock       1\n",
              "Name: Exterior1st, dtype: int64"
            ]
          },
          "metadata": {},
          "execution_count": 109
        }
      ]
    },
    {
      "cell_type": "code",
      "source": [
        "x_test[\"Exterior2nd\"].value_counts()"
      ],
      "metadata": {
        "colab": {
          "base_uri": "https://localhost:8080/"
        },
        "id": "KqMnilvmG55M",
        "outputId": "ad6bd812-ba03-4379-aef5-86583032783f"
      },
      "execution_count": 110,
      "outputs": [
        {
          "output_type": "execute_result",
          "data": {
            "text/plain": [
              "VinylSd    510\n",
              "MetalSd    233\n",
              "HdBoard    199\n",
              "Wd Sdng    194\n",
              "Plywood    128\n",
              "CmentBd     66\n",
              "Wd Shng     43\n",
              "BrkFace     22\n",
              "Stucco      21\n",
              "AsbShng     18\n",
              "Brk Cmn     15\n",
              "ImStucc      5\n",
              "CBlock       2\n",
              "AsphShn      1\n",
              "Stone        1\n",
              "Name: Exterior2nd, dtype: int64"
            ]
          },
          "metadata": {},
          "execution_count": 110
        }
      ]
    },
    {
      "cell_type": "code",
      "source": [
        "x_test[\"Exterior1st\"] = x_test[\"Exterior1st\"].fillna(x_test[\"Exterior1st\"].mode()[0])\n",
        "x_test[\"Exterior1st\"] = x_test[\"Exterior1st\"].fillna(x_test[\"Exterior1st\"].mode()[0])"
      ],
      "metadata": {
        "id": "Sy2jWmpSJoG8"
      },
      "execution_count": 111,
      "outputs": []
    },
    {
      "cell_type": "code",
      "source": [
        "x_test[\"MasVnrType\"] = x_test[\"MasVnrType\"].fillna(x_test[\"MasVnrType\"].mode()[0])\n",
        "x_test[\"MasVnrArea\"] = x_test[\"MasVnrArea\"].fillna(x_test[\"MasVnrArea\"].median())"
      ],
      "metadata": {
        "id": "O8R_xMetJ0HL"
      },
      "execution_count": 112,
      "outputs": []
    },
    {
      "cell_type": "code",
      "source": [
        "x_test[\"BsmtQual\"] = x_test[\"BsmtQual\"].fillna(x_test[\"BsmtQual\"].mode()[0])\n",
        "x_test[\"BsmtCond\"] = x_test[\"BsmtCond\"].fillna(x_test[\"BsmtCond\"].mode()[0])\n",
        "x_test[\"BsmtExposure\"] = x_test[\"BsmtExposure\"].fillna(x_test[\"BsmtExposure\"].mode()[0])\n",
        "x_test[\"BsmtFinType1\"] = x_test[\"BsmtFinType1\"].fillna(x_test[\"BsmtFinType1\"].mode()[0])\n",
        "x_test[\"BsmtFinType2\"] = x_test[\"BsmtFinType2\"].fillna(x_test[\"BsmtFinType2\"].mode()[0])"
      ],
      "metadata": {
        "id": "gHDvb5HHJ0Jz"
      },
      "execution_count": 113,
      "outputs": []
    },
    {
      "cell_type": "code",
      "source": [
        "x_test[\"BsmtFinSF1\"]"
      ],
      "metadata": {
        "colab": {
          "base_uri": "https://localhost:8080/"
        },
        "id": "LNEuzWbXJ0On",
        "outputId": "8f37a9af-62e1-4b72-e419-8314139e8f63"
      },
      "execution_count": 115,
      "outputs": [
        {
          "output_type": "execute_result",
          "data": {
            "text/plain": [
              "0        468.0\n",
              "1        923.0\n",
              "2        791.0\n",
              "3        602.0\n",
              "4        263.0\n",
              "         ...  \n",
              "1454       0.0\n",
              "1455     252.0\n",
              "1456    1224.0\n",
              "1457     337.0\n",
              "1458     758.0\n",
              "Name: BsmtFinSF1, Length: 1459, dtype: float64"
            ]
          },
          "metadata": {},
          "execution_count": 115
        }
      ]
    },
    {
      "cell_type": "code",
      "source": [
        "x_test[\"BsmtFinSF2\"]"
      ],
      "metadata": {
        "colab": {
          "base_uri": "https://localhost:8080/"
        },
        "id": "oN24_qY7J0RD",
        "outputId": "eda2ebab-4d7f-44b9-baae-3c4022347633"
      },
      "execution_count": 118,
      "outputs": [
        {
          "output_type": "execute_result",
          "data": {
            "text/plain": [
              "0       144.0\n",
              "1         0.0\n",
              "2         0.0\n",
              "3         0.0\n",
              "4         0.0\n",
              "        ...  \n",
              "1454      0.0\n",
              "1455      0.0\n",
              "1456      0.0\n",
              "1457      0.0\n",
              "1458      0.0\n",
              "Name: BsmtFinSF2, Length: 1459, dtype: float64"
            ]
          },
          "metadata": {},
          "execution_count": 118
        }
      ]
    },
    {
      "cell_type": "code",
      "source": [
        "x_test[\"BsmtFinSF1\"] = x_test[\"BsmtFinSF1\"].fillna(x_test[\"BsmtFinSF1\"].median())\n",
        "x_test[\"BsmtFinSF2\"] = x_test[\"BsmtFinSF2\"].fillna(x_test[\"BsmtFinSF2\"].median())"
      ],
      "metadata": {
        "id": "TlXqk_mzJ0Tf"
      },
      "execution_count": 119,
      "outputs": []
    },
    {
      "cell_type": "code",
      "source": [
        "x_test[\"BsmtUnfSF\"]"
      ],
      "metadata": {
        "colab": {
          "base_uri": "https://localhost:8080/"
        },
        "id": "89W669JmJ0WF",
        "outputId": "f45a26ae-6103-48b6-e108-421ba9a3f4d9"
      },
      "execution_count": 120,
      "outputs": [
        {
          "output_type": "execute_result",
          "data": {
            "text/plain": [
              "0        270.0\n",
              "1        406.0\n",
              "2        137.0\n",
              "3        324.0\n",
              "4       1017.0\n",
              "         ...  \n",
              "1454     546.0\n",
              "1455     294.0\n",
              "1456       0.0\n",
              "1457     575.0\n",
              "1458     238.0\n",
              "Name: BsmtUnfSF, Length: 1459, dtype: float64"
            ]
          },
          "metadata": {},
          "execution_count": 120
        }
      ]
    },
    {
      "cell_type": "code",
      "source": [
        "x_test[\"TotalBsmtSF\"]"
      ],
      "metadata": {
        "colab": {
          "base_uri": "https://localhost:8080/"
        },
        "id": "VyC4t1UBJ0YO",
        "outputId": "fba5e16c-a00e-481c-d261-ffea34474fc6"
      },
      "execution_count": 121,
      "outputs": [
        {
          "output_type": "execute_result",
          "data": {
            "text/plain": [
              "0        882.0\n",
              "1       1329.0\n",
              "2        928.0\n",
              "3        926.0\n",
              "4       1280.0\n",
              "         ...  \n",
              "1454     546.0\n",
              "1455     546.0\n",
              "1456    1224.0\n",
              "1457     912.0\n",
              "1458     996.0\n",
              "Name: TotalBsmtSF, Length: 1459, dtype: float64"
            ]
          },
          "metadata": {},
          "execution_count": 121
        }
      ]
    },
    {
      "cell_type": "code",
      "source": [
        "x_test[\"BsmtUnfSF\"] = x_test[\"BsmtUnfSF\"].fillna(x_test[\"BsmtUnfSF\"].median())\n",
        "x_test[\"TotalBsmtSF\"] = x_test[\"TotalBsmtSF\"].fillna(x_test[\"TotalBsmtSF\"].median())"
      ],
      "metadata": {
        "id": "wGUG_xKeLsQs"
      },
      "execution_count": 122,
      "outputs": []
    },
    {
      "cell_type": "code",
      "source": [
        "x_test.info()"
      ],
      "metadata": {
        "colab": {
          "base_uri": "https://localhost:8080/"
        },
        "id": "wnA2tIEOL4l-",
        "outputId": "96faefa6-6735-4975-9c26-3d34bff79c4a"
      },
      "execution_count": 123,
      "outputs": [
        {
          "output_type": "stream",
          "name": "stdout",
          "text": [
            "<class 'pandas.core.frame.DataFrame'>\n",
            "RangeIndex: 1459 entries, 0 to 1458\n",
            "Data columns (total 75 columns):\n",
            " #   Column         Non-Null Count  Dtype  \n",
            "---  ------         --------------  -----  \n",
            " 0   Id             1459 non-null   int64  \n",
            " 1   MSSubClass     1459 non-null   int64  \n",
            " 2   MSZoning       1459 non-null   object \n",
            " 3   LotFrontage    1459 non-null   float64\n",
            " 4   LotArea        1459 non-null   int64  \n",
            " 5   Street         1459 non-null   object \n",
            " 6   LotShape       1459 non-null   object \n",
            " 7   LandContour    1459 non-null   object \n",
            " 8   Utilities      1459 non-null   object \n",
            " 9   LotConfig      1459 non-null   object \n",
            " 10  LandSlope      1459 non-null   object \n",
            " 11  Neighborhood   1459 non-null   object \n",
            " 12  Condition1     1459 non-null   object \n",
            " 13  Condition2     1459 non-null   object \n",
            " 14  BldgType       1459 non-null   object \n",
            " 15  HouseStyle     1459 non-null   object \n",
            " 16  OverallQual    1459 non-null   int64  \n",
            " 17  OverallCond    1459 non-null   int64  \n",
            " 18  YearBuilt      1459 non-null   int64  \n",
            " 19  YearRemodAdd   1459 non-null   int64  \n",
            " 20  RoofStyle      1459 non-null   object \n",
            " 21  RoofMatl       1459 non-null   object \n",
            " 22  Exterior1st    1459 non-null   object \n",
            " 23  Exterior2nd    1458 non-null   object \n",
            " 24  MasVnrType     1459 non-null   object \n",
            " 25  MasVnrArea     1459 non-null   float64\n",
            " 26  ExterQual      1459 non-null   object \n",
            " 27  ExterCond      1459 non-null   object \n",
            " 28  Foundation     1459 non-null   object \n",
            " 29  BsmtQual       1459 non-null   object \n",
            " 30  BsmtCond       1459 non-null   object \n",
            " 31  BsmtExposure   1459 non-null   object \n",
            " 32  BsmtFinType1   1459 non-null   object \n",
            " 33  BsmtFinSF1     1459 non-null   float64\n",
            " 34  BsmtFinType2   1459 non-null   object \n",
            " 35  BsmtFinSF2     1459 non-null   float64\n",
            " 36  BsmtUnfSF      1459 non-null   float64\n",
            " 37  TotalBsmtSF    1459 non-null   float64\n",
            " 38  Heating        1459 non-null   object \n",
            " 39  HeatingQC      1459 non-null   object \n",
            " 40  CentralAir     1459 non-null   object \n",
            " 41  Electrical     1459 non-null   object \n",
            " 42  1stFlrSF       1459 non-null   int64  \n",
            " 43  2ndFlrSF       1459 non-null   int64  \n",
            " 44  LowQualFinSF   1459 non-null   int64  \n",
            " 45  GrLivArea      1459 non-null   int64  \n",
            " 46  BsmtFullBath   1457 non-null   float64\n",
            " 47  BsmtHalfBath   1457 non-null   float64\n",
            " 48  FullBath       1459 non-null   int64  \n",
            " 49  HalfBath       1459 non-null   int64  \n",
            " 50  BedroomAbvGr   1459 non-null   int64  \n",
            " 51  KitchenAbvGr   1459 non-null   int64  \n",
            " 52  KitchenQual    1458 non-null   object \n",
            " 53  TotRmsAbvGrd   1459 non-null   int64  \n",
            " 54  Functional     1457 non-null   object \n",
            " 55  Fireplaces     1459 non-null   int64  \n",
            " 56  GarageType     1383 non-null   object \n",
            " 57  GarageYrBlt    1381 non-null   float64\n",
            " 58  GarageFinish   1381 non-null   object \n",
            " 59  GarageCars     1458 non-null   float64\n",
            " 60  GarageArea     1458 non-null   float64\n",
            " 61  GarageQual     1381 non-null   object \n",
            " 62  GarageCond     1381 non-null   object \n",
            " 63  PavedDrive     1459 non-null   object \n",
            " 64  WoodDeckSF     1459 non-null   int64  \n",
            " 65  OpenPorchSF    1459 non-null   int64  \n",
            " 66  EnclosedPorch  1459 non-null   int64  \n",
            " 67  3SsnPorch      1459 non-null   int64  \n",
            " 68  ScreenPorch    1459 non-null   int64  \n",
            " 69  PoolArea       1459 non-null   int64  \n",
            " 70  MiscVal        1459 non-null   int64  \n",
            " 71  MoSold         1459 non-null   int64  \n",
            " 72  YrSold         1459 non-null   int64  \n",
            " 73  SaleType       1458 non-null   object \n",
            " 74  SaleCondition  1459 non-null   object \n",
            "dtypes: float64(11), int64(26), object(38)\n",
            "memory usage: 855.0+ KB\n"
          ]
        }
      ]
    },
    {
      "cell_type": "code",
      "source": [
        "x_test[\"Exterior2nd\"]"
      ],
      "metadata": {
        "colab": {
          "base_uri": "https://localhost:8080/"
        },
        "id": "KtntoKB_L84l",
        "outputId": "145442ad-c9f9-47d6-ed12-b9283d0b1434"
      },
      "execution_count": 124,
      "outputs": [
        {
          "output_type": "execute_result",
          "data": {
            "text/plain": [
              "0       VinylSd\n",
              "1       Wd Sdng\n",
              "2       VinylSd\n",
              "3       VinylSd\n",
              "4       HdBoard\n",
              "         ...   \n",
              "1454    CmentBd\n",
              "1455    CmentBd\n",
              "1456    VinylSd\n",
              "1457    Wd Shng\n",
              "1458    HdBoard\n",
              "Name: Exterior2nd, Length: 1459, dtype: object"
            ]
          },
          "metadata": {},
          "execution_count": 124
        }
      ]
    },
    {
      "cell_type": "code",
      "source": [
        "x_test[\"Exterior2nd\"] = x_test[\"Exterior2nd\"].fillna(x_test[\"Exterior2nd\"].mode()[0])"
      ],
      "metadata": {
        "id": "yzwdyWx3MGJg"
      },
      "execution_count": 125,
      "outputs": []
    },
    {
      "cell_type": "code",
      "source": [
        "#46  BsmtFullBath   1457 non-null   float64\n",
        "# 47  BsmtHalfBath   1457 non-null   float64\n",
        " #52  KitchenQual    1458 non-null   object \n",
        " #54  Functional     1457 non-null   object\n",
        " # 56  GarageType     1383 non-null   object \n",
        " #57  GarageYrBlt    1381 non-null   float64\n",
        " #58  GarageFinish   1381 non-null   object \n",
        " #59  GarageCars     1458 non-null   float64\n",
        "# 60  GarageArea     1458 non-null   float64\n",
        " #61  GarageQual     1381 non-null   object \n",
        " #62  GarageCond     1381 non-null   object\n",
        " #73  SaleType       1458 non-null   object"
      ],
      "metadata": {
        "id": "flHwQsFVMP-b"
      },
      "execution_count": null,
      "outputs": []
    },
    {
      "cell_type": "code",
      "source": [],
      "metadata": {
        "id": "t1s0q4jyMuZ7"
      },
      "execution_count": null,
      "outputs": []
    }
  ]
}